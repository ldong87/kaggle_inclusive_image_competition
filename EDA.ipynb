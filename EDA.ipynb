{
 "cells": [
  {
   "cell_type": "code",
   "execution_count": 1,
   "metadata": {
    "scrolled": true
   },
   "outputs": [],
   "source": [
    "import pandas as pd, numpy as np\n",
    "from matplotlib import pyplot as plt"
   ]
  },
  {
   "cell_type": "code",
   "execution_count": 2,
   "metadata": {},
   "outputs": [],
   "source": [
    "class_desc = pd.read_csv('../input/class-descriptions.csv')"
   ]
  },
  {
   "cell_type": "code",
   "execution_count": 3,
   "metadata": {},
   "outputs": [
    {
     "data": {
      "text/html": [
       "<div>\n",
       "<style scoped>\n",
       "    .dataframe tbody tr th:only-of-type {\n",
       "        vertical-align: middle;\n",
       "    }\n",
       "\n",
       "    .dataframe tbody tr th {\n",
       "        vertical-align: top;\n",
       "    }\n",
       "\n",
       "    .dataframe thead th {\n",
       "        text-align: right;\n",
       "    }\n",
       "</style>\n",
       "<table border=\"1\" class=\"dataframe\">\n",
       "  <thead>\n",
       "    <tr style=\"text-align: right;\">\n",
       "      <th></th>\n",
       "      <th>label_code</th>\n",
       "      <th>description</th>\n",
       "    </tr>\n",
       "  </thead>\n",
       "  <tbody>\n",
       "    <tr>\n",
       "      <th>0</th>\n",
       "      <td>/m/0100nhbf</td>\n",
       "      <td>Sprenger's tulip</td>\n",
       "    </tr>\n",
       "    <tr>\n",
       "      <th>1</th>\n",
       "      <td>/m/0104x9kv</td>\n",
       "      <td>Vinegret</td>\n",
       "    </tr>\n",
       "    <tr>\n",
       "      <th>2</th>\n",
       "      <td>/m/0105jzwx</td>\n",
       "      <td>Dabu-dabu</td>\n",
       "    </tr>\n",
       "    <tr>\n",
       "      <th>3</th>\n",
       "      <td>/m/0105ld7g</td>\n",
       "      <td>Pistachio ice cream</td>\n",
       "    </tr>\n",
       "    <tr>\n",
       "      <th>4</th>\n",
       "      <td>/m/0105lxy5</td>\n",
       "      <td>Woku</td>\n",
       "    </tr>\n",
       "  </tbody>\n",
       "</table>\n",
       "</div>"
      ],
      "text/plain": [
       "    label_code          description\n",
       "0  /m/0100nhbf     Sprenger's tulip\n",
       "1  /m/0104x9kv             Vinegret\n",
       "2  /m/0105jzwx            Dabu-dabu\n",
       "3  /m/0105ld7g  Pistachio ice cream\n",
       "4  /m/0105lxy5                 Woku"
      ]
     },
     "execution_count": 3,
     "metadata": {},
     "output_type": "execute_result"
    }
   ],
   "source": [
    "class_desc.head()"
   ]
  },
  {
   "cell_type": "code",
   "execution_count": 4,
   "metadata": {},
   "outputs": [
    {
     "data": {
      "text/plain": [
       "(19987, 2)"
      ]
     },
     "execution_count": 4,
     "metadata": {},
     "output_type": "execute_result"
    }
   ],
   "source": [
    "class_desc.shape"
   ]
  },
  {
   "cell_type": "code",
   "execution_count": 5,
   "metadata": {},
   "outputs": [],
   "source": [
    "label2desc_all = class_desc.set_index('label_code')"
   ]
  },
  {
   "cell_type": "code",
   "execution_count": 6,
   "metadata": {},
   "outputs": [
    {
     "data": {
      "text/html": [
       "<div>\n",
       "<style scoped>\n",
       "    .dataframe tbody tr th:only-of-type {\n",
       "        vertical-align: middle;\n",
       "    }\n",
       "\n",
       "    .dataframe tbody tr th {\n",
       "        vertical-align: top;\n",
       "    }\n",
       "\n",
       "    .dataframe thead th {\n",
       "        text-align: right;\n",
       "    }\n",
       "</style>\n",
       "<table border=\"1\" class=\"dataframe\">\n",
       "  <thead>\n",
       "    <tr style=\"text-align: right;\">\n",
       "      <th></th>\n",
       "      <th>description</th>\n",
       "    </tr>\n",
       "    <tr>\n",
       "      <th>label_code</th>\n",
       "      <th></th>\n",
       "    </tr>\n",
       "  </thead>\n",
       "  <tbody>\n",
       "    <tr>\n",
       "      <th>/m/0100nhbf</th>\n",
       "      <td>Sprenger's tulip</td>\n",
       "    </tr>\n",
       "    <tr>\n",
       "      <th>/m/0104x9kv</th>\n",
       "      <td>Vinegret</td>\n",
       "    </tr>\n",
       "    <tr>\n",
       "      <th>/m/0105jzwx</th>\n",
       "      <td>Dabu-dabu</td>\n",
       "    </tr>\n",
       "    <tr>\n",
       "      <th>/m/0105ld7g</th>\n",
       "      <td>Pistachio ice cream</td>\n",
       "    </tr>\n",
       "    <tr>\n",
       "      <th>/m/0105lxy5</th>\n",
       "      <td>Woku</td>\n",
       "    </tr>\n",
       "  </tbody>\n",
       "</table>\n",
       "</div>"
      ],
      "text/plain": [
       "                     description\n",
       "label_code                      \n",
       "/m/0100nhbf     Sprenger's tulip\n",
       "/m/0104x9kv             Vinegret\n",
       "/m/0105jzwx            Dabu-dabu\n",
       "/m/0105ld7g  Pistachio ice cream\n",
       "/m/0105lxy5                 Woku"
      ]
     },
     "execution_count": 6,
     "metadata": {},
     "output_type": "execute_result"
    }
   ],
   "source": [
    "label2desc_all.head()"
   ]
  },
  {
   "cell_type": "code",
   "execution_count": 7,
   "metadata": {},
   "outputs": [],
   "source": [
    "class_train = pd.read_csv('../input/classes-trainable.csv')"
   ]
  },
  {
   "cell_type": "code",
   "execution_count": 8,
   "metadata": {},
   "outputs": [
    {
     "data": {
      "text/html": [
       "<div>\n",
       "<style scoped>\n",
       "    .dataframe tbody tr th:only-of-type {\n",
       "        vertical-align: middle;\n",
       "    }\n",
       "\n",
       "    .dataframe tbody tr th {\n",
       "        vertical-align: top;\n",
       "    }\n",
       "\n",
       "    .dataframe thead th {\n",
       "        text-align: right;\n",
       "    }\n",
       "</style>\n",
       "<table border=\"1\" class=\"dataframe\">\n",
       "  <thead>\n",
       "    <tr style=\"text-align: right;\">\n",
       "      <th></th>\n",
       "      <th>label_code</th>\n",
       "    </tr>\n",
       "  </thead>\n",
       "  <tbody>\n",
       "    <tr>\n",
       "      <th>0</th>\n",
       "      <td>/m/0108_09c</td>\n",
       "    </tr>\n",
       "    <tr>\n",
       "      <th>1</th>\n",
       "      <td>/m/010dmf</td>\n",
       "    </tr>\n",
       "    <tr>\n",
       "      <th>2</th>\n",
       "      <td>/m/010jjr</td>\n",
       "    </tr>\n",
       "    <tr>\n",
       "      <th>3</th>\n",
       "      <td>/m/010l12</td>\n",
       "    </tr>\n",
       "    <tr>\n",
       "      <th>4</th>\n",
       "      <td>/m/010lq47b</td>\n",
       "    </tr>\n",
       "  </tbody>\n",
       "</table>\n",
       "</div>"
      ],
      "text/plain": [
       "    label_code\n",
       "0  /m/0108_09c\n",
       "1    /m/010dmf\n",
       "2    /m/010jjr\n",
       "3    /m/010l12\n",
       "4  /m/010lq47b"
      ]
     },
     "execution_count": 8,
     "metadata": {},
     "output_type": "execute_result"
    }
   ],
   "source": [
    "class_train.head()"
   ]
  },
  {
   "cell_type": "code",
   "execution_count": 9,
   "metadata": {},
   "outputs": [
    {
     "data": {
      "text/plain": [
       "7178"
      ]
     },
     "execution_count": 9,
     "metadata": {},
     "output_type": "execute_result"
    }
   ],
   "source": [
    "class_train['label_code'].nunique()"
   ]
  },
  {
   "cell_type": "code",
   "execution_count": 10,
   "metadata": {},
   "outputs": [],
   "source": [
    "class_desc_train = pd.merge(left=class_train, right=class_desc, on='label_code', how='inner')"
   ]
  },
  {
   "cell_type": "code",
   "execution_count": 11,
   "metadata": {},
   "outputs": [
    {
     "data": {
      "text/plain": [
       "(7178, 2)"
      ]
     },
     "execution_count": 11,
     "metadata": {},
     "output_type": "execute_result"
    }
   ],
   "source": [
    "class_desc_train.shape"
   ]
  },
  {
   "cell_type": "code",
   "execution_count": 12,
   "metadata": {},
   "outputs": [],
   "source": [
    "label2desc_train = class_desc_train.set_index('label_code')"
   ]
  },
  {
   "cell_type": "code",
   "execution_count": 13,
   "metadata": {},
   "outputs": [
    {
     "data": {
      "text/html": [
       "<div>\n",
       "<style scoped>\n",
       "    .dataframe tbody tr th:only-of-type {\n",
       "        vertical-align: middle;\n",
       "    }\n",
       "\n",
       "    .dataframe tbody tr th {\n",
       "        vertical-align: top;\n",
       "    }\n",
       "\n",
       "    .dataframe thead th {\n",
       "        text-align: right;\n",
       "    }\n",
       "</style>\n",
       "<table border=\"1\" class=\"dataframe\">\n",
       "  <thead>\n",
       "    <tr style=\"text-align: right;\">\n",
       "      <th></th>\n",
       "      <th>description</th>\n",
       "    </tr>\n",
       "    <tr>\n",
       "      <th>label_code</th>\n",
       "      <th></th>\n",
       "    </tr>\n",
       "  </thead>\n",
       "  <tbody>\n",
       "    <tr>\n",
       "      <th>/m/0108_09c</th>\n",
       "      <td>Summer snowflake</td>\n",
       "    </tr>\n",
       "    <tr>\n",
       "      <th>/m/010dmf</th>\n",
       "      <td>Isle of man tt</td>\n",
       "    </tr>\n",
       "    <tr>\n",
       "      <th>/m/010jjr</th>\n",
       "      <td>Amusement park</td>\n",
       "    </tr>\n",
       "    <tr>\n",
       "      <th>/m/010l12</th>\n",
       "      <td>Roller coaster</td>\n",
       "    </tr>\n",
       "    <tr>\n",
       "      <th>/m/010lq47b</th>\n",
       "      <td>Witch hat</td>\n",
       "    </tr>\n",
       "  </tbody>\n",
       "</table>\n",
       "</div>"
      ],
      "text/plain": [
       "                  description\n",
       "label_code                   \n",
       "/m/0108_09c  Summer snowflake\n",
       "/m/010dmf      Isle of man tt\n",
       "/m/010jjr      Amusement park\n",
       "/m/010l12      Roller coaster\n",
       "/m/010lq47b         Witch hat"
      ]
     },
     "execution_count": 13,
     "metadata": {},
     "output_type": "execute_result"
    }
   ],
   "source": [
    "label2desc_train.head()"
   ]
  },
  {
   "cell_type": "code",
   "execution_count": 14,
   "metadata": {},
   "outputs": [],
   "source": [
    "sub = pd.read_csv('../input/stage_1_sample_submission.csv')"
   ]
  },
  {
   "cell_type": "code",
   "execution_count": 15,
   "metadata": {
    "scrolled": true
   },
   "outputs": [
    {
     "data": {
      "text/html": [
       "<div>\n",
       "<style scoped>\n",
       "    .dataframe tbody tr th:only-of-type {\n",
       "        vertical-align: middle;\n",
       "    }\n",
       "\n",
       "    .dataframe tbody tr th {\n",
       "        vertical-align: top;\n",
       "    }\n",
       "\n",
       "    .dataframe thead th {\n",
       "        text-align: right;\n",
       "    }\n",
       "</style>\n",
       "<table border=\"1\" class=\"dataframe\">\n",
       "  <thead>\n",
       "    <tr style=\"text-align: right;\">\n",
       "      <th></th>\n",
       "      <th>image_id</th>\n",
       "      <th>labels</th>\n",
       "    </tr>\n",
       "  </thead>\n",
       "  <tbody>\n",
       "    <tr>\n",
       "      <th>0</th>\n",
       "      <td>2b2b327132556c767a736b3d</td>\n",
       "      <td>/m/0sgh53y /m/0g4cd0</td>\n",
       "    </tr>\n",
       "    <tr>\n",
       "      <th>1</th>\n",
       "      <td>2b2b394755692f303963553d</td>\n",
       "      <td>/m/0sgh53y /m/0g4cd0</td>\n",
       "    </tr>\n",
       "    <tr>\n",
       "      <th>2</th>\n",
       "      <td>2b2b42584e6d445937444d3d</td>\n",
       "      <td>/m/0sgh53y /m/0g4cd0</td>\n",
       "    </tr>\n",
       "    <tr>\n",
       "      <th>3</th>\n",
       "      <td>2b2b44744e57674270616f3d</td>\n",
       "      <td>/m/0sgh53y /m/0g4cd0</td>\n",
       "    </tr>\n",
       "    <tr>\n",
       "      <th>4</th>\n",
       "      <td>2b2b4b425a592b683059493d</td>\n",
       "      <td>/m/0sgh53y /m/0g4cd0</td>\n",
       "    </tr>\n",
       "  </tbody>\n",
       "</table>\n",
       "</div>"
      ],
      "text/plain": [
       "                   image_id                labels\n",
       "0  2b2b327132556c767a736b3d  /m/0sgh53y /m/0g4cd0\n",
       "1  2b2b394755692f303963553d  /m/0sgh53y /m/0g4cd0\n",
       "2  2b2b42584e6d445937444d3d  /m/0sgh53y /m/0g4cd0\n",
       "3  2b2b44744e57674270616f3d  /m/0sgh53y /m/0g4cd0\n",
       "4  2b2b4b425a592b683059493d  /m/0sgh53y /m/0g4cd0"
      ]
     },
     "execution_count": 15,
     "metadata": {},
     "output_type": "execute_result"
    }
   ],
   "source": [
    "sub.head()"
   ]
  },
  {
   "cell_type": "code",
   "execution_count": 16,
   "metadata": {},
   "outputs": [
    {
     "data": {
      "text/plain": [
       "(32580, 2)"
      ]
     },
     "execution_count": 16,
     "metadata": {},
     "output_type": "execute_result"
    }
   ],
   "source": [
    "sub.shape"
   ]
  },
  {
   "cell_type": "code",
   "execution_count": 17,
   "metadata": {},
   "outputs": [],
   "source": [
    "bbox = pd.read_csv('../input/train_bounding_boxes.csv')"
   ]
  },
  {
   "cell_type": "code",
   "execution_count": 18,
   "metadata": {},
   "outputs": [
    {
     "data": {
      "text/html": [
       "<div>\n",
       "<style scoped>\n",
       "    .dataframe tbody tr th:only-of-type {\n",
       "        vertical-align: middle;\n",
       "    }\n",
       "\n",
       "    .dataframe tbody tr th {\n",
       "        vertical-align: top;\n",
       "    }\n",
       "\n",
       "    .dataframe thead th {\n",
       "        text-align: right;\n",
       "    }\n",
       "</style>\n",
       "<table border=\"1\" class=\"dataframe\">\n",
       "  <thead>\n",
       "    <tr style=\"text-align: right;\">\n",
       "      <th></th>\n",
       "      <th>ImageID</th>\n",
       "      <th>Source</th>\n",
       "      <th>LabelName</th>\n",
       "      <th>Confidence</th>\n",
       "      <th>XMin</th>\n",
       "      <th>XMax</th>\n",
       "      <th>YMin</th>\n",
       "      <th>YMax</th>\n",
       "      <th>IsOccluded</th>\n",
       "      <th>IsTruncated</th>\n",
       "      <th>IsGroupOf</th>\n",
       "      <th>IsDepiction</th>\n",
       "      <th>IsInside</th>\n",
       "    </tr>\n",
       "  </thead>\n",
       "  <tbody>\n",
       "    <tr>\n",
       "      <th>0</th>\n",
       "      <td>000002b66c9c498e</td>\n",
       "      <td>xclick</td>\n",
       "      <td>/m/01g317</td>\n",
       "      <td>1</td>\n",
       "      <td>0.012500</td>\n",
       "      <td>0.195312</td>\n",
       "      <td>0.148438</td>\n",
       "      <td>0.587500</td>\n",
       "      <td>0</td>\n",
       "      <td>1</td>\n",
       "      <td>0</td>\n",
       "      <td>0</td>\n",
       "      <td>0</td>\n",
       "    </tr>\n",
       "    <tr>\n",
       "      <th>1</th>\n",
       "      <td>000002b66c9c498e</td>\n",
       "      <td>xclick</td>\n",
       "      <td>/m/01g317</td>\n",
       "      <td>1</td>\n",
       "      <td>0.025000</td>\n",
       "      <td>0.276563</td>\n",
       "      <td>0.714063</td>\n",
       "      <td>0.948438</td>\n",
       "      <td>0</td>\n",
       "      <td>1</td>\n",
       "      <td>0</td>\n",
       "      <td>0</td>\n",
       "      <td>0</td>\n",
       "    </tr>\n",
       "    <tr>\n",
       "      <th>2</th>\n",
       "      <td>000002b66c9c498e</td>\n",
       "      <td>xclick</td>\n",
       "      <td>/m/01g317</td>\n",
       "      <td>1</td>\n",
       "      <td>0.151562</td>\n",
       "      <td>0.310937</td>\n",
       "      <td>0.198437</td>\n",
       "      <td>0.590625</td>\n",
       "      <td>1</td>\n",
       "      <td>0</td>\n",
       "      <td>0</td>\n",
       "      <td>0</td>\n",
       "      <td>0</td>\n",
       "    </tr>\n",
       "    <tr>\n",
       "      <th>3</th>\n",
       "      <td>000002b66c9c498e</td>\n",
       "      <td>xclick</td>\n",
       "      <td>/m/01g317</td>\n",
       "      <td>1</td>\n",
       "      <td>0.256250</td>\n",
       "      <td>0.429688</td>\n",
       "      <td>0.651563</td>\n",
       "      <td>0.925000</td>\n",
       "      <td>1</td>\n",
       "      <td>0</td>\n",
       "      <td>0</td>\n",
       "      <td>0</td>\n",
       "      <td>0</td>\n",
       "    </tr>\n",
       "    <tr>\n",
       "      <th>4</th>\n",
       "      <td>000002b66c9c498e</td>\n",
       "      <td>xclick</td>\n",
       "      <td>/m/01g317</td>\n",
       "      <td>1</td>\n",
       "      <td>0.257812</td>\n",
       "      <td>0.346875</td>\n",
       "      <td>0.235938</td>\n",
       "      <td>0.385938</td>\n",
       "      <td>1</td>\n",
       "      <td>0</td>\n",
       "      <td>0</td>\n",
       "      <td>0</td>\n",
       "      <td>0</td>\n",
       "    </tr>\n",
       "  </tbody>\n",
       "</table>\n",
       "</div>"
      ],
      "text/plain": [
       "            ImageID  Source  LabelName  Confidence      XMin      XMax  \\\n",
       "0  000002b66c9c498e  xclick  /m/01g317           1  0.012500  0.195312   \n",
       "1  000002b66c9c498e  xclick  /m/01g317           1  0.025000  0.276563   \n",
       "2  000002b66c9c498e  xclick  /m/01g317           1  0.151562  0.310937   \n",
       "3  000002b66c9c498e  xclick  /m/01g317           1  0.256250  0.429688   \n",
       "4  000002b66c9c498e  xclick  /m/01g317           1  0.257812  0.346875   \n",
       "\n",
       "       YMin      YMax  IsOccluded  IsTruncated  IsGroupOf  IsDepiction  \\\n",
       "0  0.148438  0.587500           0            1          0            0   \n",
       "1  0.714063  0.948438           0            1          0            0   \n",
       "2  0.198437  0.590625           1            0          0            0   \n",
       "3  0.651563  0.925000           1            0          0            0   \n",
       "4  0.235938  0.385938           1            0          0            0   \n",
       "\n",
       "   IsInside  \n",
       "0         0  \n",
       "1         0  \n",
       "2         0  \n",
       "3         0  \n",
       "4         0  "
      ]
     },
     "execution_count": 18,
     "metadata": {},
     "output_type": "execute_result"
    }
   ],
   "source": [
    "bbox.head()"
   ]
  },
  {
   "cell_type": "code",
   "execution_count": 19,
   "metadata": {},
   "outputs": [
    {
     "data": {
      "text/plain": [
       "(14610229, 13)"
      ]
     },
     "execution_count": 19,
     "metadata": {},
     "output_type": "execute_result"
    }
   ],
   "source": [
    "bbox.shape"
   ]
  },
  {
   "cell_type": "code",
   "execution_count": 20,
   "metadata": {},
   "outputs": [
    {
     "data": {
      "text/plain": [
       "599"
      ]
     },
     "execution_count": 20,
     "metadata": {},
     "output_type": "execute_result"
    }
   ],
   "source": [
    "bbox['LabelName'].nunique()"
   ]
  },
  {
   "cell_type": "code",
   "execution_count": 21,
   "metadata": {},
   "outputs": [],
   "source": [
    "bbox_train = pd.merge(left=bbox, right=class_desc_train, left_on='LabelName', right_on='label_code', how='inner')\n",
    "bbox_train.drop('LabelName', axis=1, inplace=True)"
   ]
  },
  {
   "cell_type": "code",
   "execution_count": 22,
   "metadata": {},
   "outputs": [
    {
     "data": {
      "text/plain": [
       "553"
      ]
     },
     "execution_count": 22,
     "metadata": {},
     "output_type": "execute_result"
    }
   ],
   "source": [
    "bbox_train['label_code'].nunique()"
   ]
  },
  {
   "cell_type": "code",
   "execution_count": 23,
   "metadata": {},
   "outputs": [
    {
     "data": {
      "text/plain": [
       "(12137420, 14)"
      ]
     },
     "execution_count": 23,
     "metadata": {},
     "output_type": "execute_result"
    }
   ],
   "source": [
    "bbox_train.shape"
   ]
  },
  {
   "cell_type": "code",
   "execution_count": 24,
   "metadata": {
    "scrolled": true
   },
   "outputs": [
    {
     "data": {
      "text/html": [
       "<div>\n",
       "<style scoped>\n",
       "    .dataframe tbody tr th:only-of-type {\n",
       "        vertical-align: middle;\n",
       "    }\n",
       "\n",
       "    .dataframe tbody tr th {\n",
       "        vertical-align: top;\n",
       "    }\n",
       "\n",
       "    .dataframe thead th {\n",
       "        text-align: right;\n",
       "    }\n",
       "</style>\n",
       "<table border=\"1\" class=\"dataframe\">\n",
       "  <thead>\n",
       "    <tr style=\"text-align: right;\">\n",
       "      <th></th>\n",
       "      <th>ImageID</th>\n",
       "      <th>Source</th>\n",
       "      <th>Confidence</th>\n",
       "      <th>XMin</th>\n",
       "      <th>XMax</th>\n",
       "      <th>YMin</th>\n",
       "      <th>YMax</th>\n",
       "      <th>IsOccluded</th>\n",
       "      <th>IsTruncated</th>\n",
       "      <th>IsGroupOf</th>\n",
       "      <th>IsDepiction</th>\n",
       "      <th>IsInside</th>\n",
       "      <th>label_code</th>\n",
       "      <th>description</th>\n",
       "    </tr>\n",
       "  </thead>\n",
       "  <tbody>\n",
       "    <tr>\n",
       "      <th>0</th>\n",
       "      <td>000002b66c9c498e</td>\n",
       "      <td>xclick</td>\n",
       "      <td>1</td>\n",
       "      <td>0.012500</td>\n",
       "      <td>0.195312</td>\n",
       "      <td>0.148438</td>\n",
       "      <td>0.587500</td>\n",
       "      <td>0</td>\n",
       "      <td>1</td>\n",
       "      <td>0</td>\n",
       "      <td>0</td>\n",
       "      <td>0</td>\n",
       "      <td>/m/01g317</td>\n",
       "      <td>Person</td>\n",
       "    </tr>\n",
       "    <tr>\n",
       "      <th>1</th>\n",
       "      <td>000002b66c9c498e</td>\n",
       "      <td>xclick</td>\n",
       "      <td>1</td>\n",
       "      <td>0.025000</td>\n",
       "      <td>0.276563</td>\n",
       "      <td>0.714063</td>\n",
       "      <td>0.948438</td>\n",
       "      <td>0</td>\n",
       "      <td>1</td>\n",
       "      <td>0</td>\n",
       "      <td>0</td>\n",
       "      <td>0</td>\n",
       "      <td>/m/01g317</td>\n",
       "      <td>Person</td>\n",
       "    </tr>\n",
       "    <tr>\n",
       "      <th>2</th>\n",
       "      <td>000002b66c9c498e</td>\n",
       "      <td>xclick</td>\n",
       "      <td>1</td>\n",
       "      <td>0.151562</td>\n",
       "      <td>0.310937</td>\n",
       "      <td>0.198437</td>\n",
       "      <td>0.590625</td>\n",
       "      <td>1</td>\n",
       "      <td>0</td>\n",
       "      <td>0</td>\n",
       "      <td>0</td>\n",
       "      <td>0</td>\n",
       "      <td>/m/01g317</td>\n",
       "      <td>Person</td>\n",
       "    </tr>\n",
       "    <tr>\n",
       "      <th>3</th>\n",
       "      <td>000002b66c9c498e</td>\n",
       "      <td>xclick</td>\n",
       "      <td>1</td>\n",
       "      <td>0.256250</td>\n",
       "      <td>0.429688</td>\n",
       "      <td>0.651563</td>\n",
       "      <td>0.925000</td>\n",
       "      <td>1</td>\n",
       "      <td>0</td>\n",
       "      <td>0</td>\n",
       "      <td>0</td>\n",
       "      <td>0</td>\n",
       "      <td>/m/01g317</td>\n",
       "      <td>Person</td>\n",
       "    </tr>\n",
       "    <tr>\n",
       "      <th>4</th>\n",
       "      <td>000002b66c9c498e</td>\n",
       "      <td>xclick</td>\n",
       "      <td>1</td>\n",
       "      <td>0.257812</td>\n",
       "      <td>0.346875</td>\n",
       "      <td>0.235938</td>\n",
       "      <td>0.385938</td>\n",
       "      <td>1</td>\n",
       "      <td>0</td>\n",
       "      <td>0</td>\n",
       "      <td>0</td>\n",
       "      <td>0</td>\n",
       "      <td>/m/01g317</td>\n",
       "      <td>Person</td>\n",
       "    </tr>\n",
       "  </tbody>\n",
       "</table>\n",
       "</div>"
      ],
      "text/plain": [
       "            ImageID  Source  Confidence      XMin      XMax      YMin  \\\n",
       "0  000002b66c9c498e  xclick           1  0.012500  0.195312  0.148438   \n",
       "1  000002b66c9c498e  xclick           1  0.025000  0.276563  0.714063   \n",
       "2  000002b66c9c498e  xclick           1  0.151562  0.310937  0.198437   \n",
       "3  000002b66c9c498e  xclick           1  0.256250  0.429688  0.651563   \n",
       "4  000002b66c9c498e  xclick           1  0.257812  0.346875  0.235938   \n",
       "\n",
       "       YMax  IsOccluded  IsTruncated  IsGroupOf  IsDepiction  IsInside  \\\n",
       "0  0.587500           0            1          0            0         0   \n",
       "1  0.948438           0            1          0            0         0   \n",
       "2  0.590625           1            0          0            0         0   \n",
       "3  0.925000           1            0          0            0         0   \n",
       "4  0.385938           1            0          0            0         0   \n",
       "\n",
       "  label_code description  \n",
       "0  /m/01g317      Person  \n",
       "1  /m/01g317      Person  \n",
       "2  /m/01g317      Person  \n",
       "3  /m/01g317      Person  \n",
       "4  /m/01g317      Person  "
      ]
     },
     "execution_count": 24,
     "metadata": {},
     "output_type": "execute_result"
    }
   ],
   "source": [
    "bbox_train.head()"
   ]
  },
  {
   "cell_type": "code",
   "execution_count": 25,
   "metadata": {},
   "outputs": [],
   "source": [
    "bbox_train_ = bbox_train[['ImageID', 'Confidence', 'label_code', 'XMin', 'YMin', 'XMax', 'YMax']]"
   ]
  },
  {
   "cell_type": "code",
   "execution_count": 26,
   "metadata": {},
   "outputs": [],
   "source": [
    "bbox_train_.reset_index(inplace=True, drop=True)"
   ]
  },
  {
   "cell_type": "code",
   "execution_count": 27,
   "metadata": {},
   "outputs": [
    {
     "data": {
      "text/html": [
       "<div>\n",
       "<style scoped>\n",
       "    .dataframe tbody tr th:only-of-type {\n",
       "        vertical-align: middle;\n",
       "    }\n",
       "\n",
       "    .dataframe tbody tr th {\n",
       "        vertical-align: top;\n",
       "    }\n",
       "\n",
       "    .dataframe thead th {\n",
       "        text-align: right;\n",
       "    }\n",
       "</style>\n",
       "<table border=\"1\" class=\"dataframe\">\n",
       "  <thead>\n",
       "    <tr style=\"text-align: right;\">\n",
       "      <th></th>\n",
       "      <th>ImageID</th>\n",
       "      <th>Confidence</th>\n",
       "      <th>label_code</th>\n",
       "      <th>XMin</th>\n",
       "      <th>YMin</th>\n",
       "      <th>XMax</th>\n",
       "      <th>YMax</th>\n",
       "    </tr>\n",
       "  </thead>\n",
       "  <tbody>\n",
       "    <tr>\n",
       "      <th>0</th>\n",
       "      <td>000002b66c9c498e</td>\n",
       "      <td>1</td>\n",
       "      <td>/m/01g317</td>\n",
       "      <td>0.012500</td>\n",
       "      <td>0.148438</td>\n",
       "      <td>0.195312</td>\n",
       "      <td>0.587500</td>\n",
       "    </tr>\n",
       "    <tr>\n",
       "      <th>1</th>\n",
       "      <td>000002b66c9c498e</td>\n",
       "      <td>1</td>\n",
       "      <td>/m/01g317</td>\n",
       "      <td>0.025000</td>\n",
       "      <td>0.714063</td>\n",
       "      <td>0.276563</td>\n",
       "      <td>0.948438</td>\n",
       "    </tr>\n",
       "    <tr>\n",
       "      <th>2</th>\n",
       "      <td>000002b66c9c498e</td>\n",
       "      <td>1</td>\n",
       "      <td>/m/01g317</td>\n",
       "      <td>0.151562</td>\n",
       "      <td>0.198437</td>\n",
       "      <td>0.310937</td>\n",
       "      <td>0.590625</td>\n",
       "    </tr>\n",
       "    <tr>\n",
       "      <th>3</th>\n",
       "      <td>000002b66c9c498e</td>\n",
       "      <td>1</td>\n",
       "      <td>/m/01g317</td>\n",
       "      <td>0.256250</td>\n",
       "      <td>0.651563</td>\n",
       "      <td>0.429688</td>\n",
       "      <td>0.925000</td>\n",
       "    </tr>\n",
       "    <tr>\n",
       "      <th>4</th>\n",
       "      <td>000002b66c9c498e</td>\n",
       "      <td>1</td>\n",
       "      <td>/m/01g317</td>\n",
       "      <td>0.257812</td>\n",
       "      <td>0.235938</td>\n",
       "      <td>0.346875</td>\n",
       "      <td>0.385938</td>\n",
       "    </tr>\n",
       "  </tbody>\n",
       "</table>\n",
       "</div>"
      ],
      "text/plain": [
       "            ImageID  Confidence label_code      XMin      YMin      XMax  \\\n",
       "0  000002b66c9c498e           1  /m/01g317  0.012500  0.148438  0.195312   \n",
       "1  000002b66c9c498e           1  /m/01g317  0.025000  0.714063  0.276563   \n",
       "2  000002b66c9c498e           1  /m/01g317  0.151562  0.198437  0.310937   \n",
       "3  000002b66c9c498e           1  /m/01g317  0.256250  0.651563  0.429688   \n",
       "4  000002b66c9c498e           1  /m/01g317  0.257812  0.235938  0.346875   \n",
       "\n",
       "       YMax  \n",
       "0  0.587500  \n",
       "1  0.948438  \n",
       "2  0.590625  \n",
       "3  0.925000  \n",
       "4  0.385938  "
      ]
     },
     "execution_count": 27,
     "metadata": {},
     "output_type": "execute_result"
    }
   ],
   "source": [
    "bbox_train_.head()"
   ]
  },
  {
   "cell_type": "code",
   "execution_count": 28,
   "metadata": {},
   "outputs": [],
   "source": [
    "label_hmn = pd.read_csv('../input/train_human_labels.csv')"
   ]
  },
  {
   "cell_type": "code",
   "execution_count": 29,
   "metadata": {},
   "outputs": [
    {
     "data": {
      "text/html": [
       "<div>\n",
       "<style scoped>\n",
       "    .dataframe tbody tr th:only-of-type {\n",
       "        vertical-align: middle;\n",
       "    }\n",
       "\n",
       "    .dataframe tbody tr th {\n",
       "        vertical-align: top;\n",
       "    }\n",
       "\n",
       "    .dataframe thead th {\n",
       "        text-align: right;\n",
       "    }\n",
       "</style>\n",
       "<table border=\"1\" class=\"dataframe\">\n",
       "  <thead>\n",
       "    <tr style=\"text-align: right;\">\n",
       "      <th></th>\n",
       "      <th>ImageID</th>\n",
       "      <th>Source</th>\n",
       "      <th>LabelName</th>\n",
       "      <th>Confidence</th>\n",
       "    </tr>\n",
       "  </thead>\n",
       "  <tbody>\n",
       "    <tr>\n",
       "      <th>0</th>\n",
       "      <td>000002b66c9c498e</td>\n",
       "      <td>crowdsource-verification</td>\n",
       "      <td>/m/01kcnl</td>\n",
       "      <td>1</td>\n",
       "    </tr>\n",
       "    <tr>\n",
       "      <th>1</th>\n",
       "      <td>000002b66c9c498e</td>\n",
       "      <td>verification</td>\n",
       "      <td>/m/012mj</td>\n",
       "      <td>1</td>\n",
       "    </tr>\n",
       "    <tr>\n",
       "      <th>2</th>\n",
       "      <td>000002b66c9c498e</td>\n",
       "      <td>verification</td>\n",
       "      <td>/m/012yh1</td>\n",
       "      <td>1</td>\n",
       "    </tr>\n",
       "    <tr>\n",
       "      <th>3</th>\n",
       "      <td>000002b66c9c498e</td>\n",
       "      <td>verification</td>\n",
       "      <td>/m/014sv8</td>\n",
       "      <td>1</td>\n",
       "    </tr>\n",
       "    <tr>\n",
       "      <th>4</th>\n",
       "      <td>000002b66c9c498e</td>\n",
       "      <td>verification</td>\n",
       "      <td>/m/016c68</td>\n",
       "      <td>1</td>\n",
       "    </tr>\n",
       "  </tbody>\n",
       "</table>\n",
       "</div>"
      ],
      "text/plain": [
       "            ImageID                    Source  LabelName  Confidence\n",
       "0  000002b66c9c498e  crowdsource-verification  /m/01kcnl           1\n",
       "1  000002b66c9c498e              verification   /m/012mj           1\n",
       "2  000002b66c9c498e              verification  /m/012yh1           1\n",
       "3  000002b66c9c498e              verification  /m/014sv8           1\n",
       "4  000002b66c9c498e              verification  /m/016c68           1"
      ]
     },
     "execution_count": 29,
     "metadata": {},
     "output_type": "execute_result"
    }
   ],
   "source": [
    "label_hmn.head()"
   ]
  },
  {
   "cell_type": "code",
   "execution_count": 30,
   "metadata": {},
   "outputs": [
    {
     "data": {
      "text/plain": [
       "18155"
      ]
     },
     "execution_count": 30,
     "metadata": {},
     "output_type": "execute_result"
    }
   ],
   "source": [
    "label_hmn['LabelName'].nunique()"
   ]
  },
  {
   "cell_type": "code",
   "execution_count": 31,
   "metadata": {},
   "outputs": [
    {
     "data": {
      "text/plain": [
       "(8036466, 4)"
      ]
     },
     "execution_count": 31,
     "metadata": {},
     "output_type": "execute_result"
    }
   ],
   "source": [
    "label_hmn.shape"
   ]
  },
  {
   "cell_type": "code",
   "execution_count": 32,
   "metadata": {},
   "outputs": [
    {
     "data": {
      "text/plain": [
       "1743042"
      ]
     },
     "execution_count": 32,
     "metadata": {},
     "output_type": "execute_result"
    }
   ],
   "source": [
    "label_hmn['ImageID'].nunique()"
   ]
  },
  {
   "cell_type": "code",
   "execution_count": 33,
   "metadata": {},
   "outputs": [],
   "source": [
    "label_hmn_train = pd.merge(left=label_hmn, right=class_desc_train, left_on='LabelName', right_on='label_code', how='inner')\n",
    "label_hmn_train.sort_values(by='ImageID', inplace=True)\n",
    "label_hmn_train.drop('LabelName', axis=1, inplace=True)"
   ]
  },
  {
   "cell_type": "code",
   "execution_count": 34,
   "metadata": {},
   "outputs": [
    {
     "data": {
      "text/plain": [
       "7172"
      ]
     },
     "execution_count": 34,
     "metadata": {},
     "output_type": "execute_result"
    }
   ],
   "source": [
    "label_hmn_train['label_code'].nunique()"
   ]
  },
  {
   "cell_type": "code",
   "execution_count": 35,
   "metadata": {},
   "outputs": [
    {
     "data": {
      "text/plain": [
       "(7117742, 5)"
      ]
     },
     "execution_count": 35,
     "metadata": {},
     "output_type": "execute_result"
    }
   ],
   "source": [
    "label_hmn_train.shape"
   ]
  },
  {
   "cell_type": "code",
   "execution_count": 36,
   "metadata": {},
   "outputs": [
    {
     "data": {
      "text/plain": [
       "(7117742, 3)"
      ]
     },
     "execution_count": 36,
     "metadata": {},
     "output_type": "execute_result"
    }
   ],
   "source": [
    "label_hmn_train[['ImageID','label_code','description']].drop_duplicates().shape"
   ]
  },
  {
   "cell_type": "code",
   "execution_count": 37,
   "metadata": {},
   "outputs": [
    {
     "data": {
      "text/plain": [
       "1741975"
      ]
     },
     "execution_count": 37,
     "metadata": {},
     "output_type": "execute_result"
    }
   ],
   "source": [
    "label_hmn_train['ImageID'].nunique()"
   ]
  },
  {
   "cell_type": "code",
   "execution_count": 38,
   "metadata": {},
   "outputs": [
    {
     "name": "stderr",
     "output_type": "stream",
     "text": [
      "/usr/local/lib/python3.6/dist-packages/ipykernel_launcher.py:2: SettingWithCopyWarning: \n",
      "A value is trying to be set on a copy of a slice from a DataFrame.\n",
      "Try using .loc[row_indexer,col_indexer] = value instead\n",
      "\n",
      "See the caveats in the documentation: http://pandas.pydata.org/pandas-docs/stable/indexing.html#indexing-view-versus-copy\n",
      "  \n"
     ]
    }
   ],
   "source": [
    "label_hmn_train_ = label_hmn_train[['ImageID', 'Confidence', 'label_code']]\n",
    "label_hmn_train_['XMin'] = 0\n",
    "label_hmn_train_['YMin'] = 0\n",
    "label_hmn_train_['XMax'] = 1\n",
    "label_hmn_train_['YMax'] = 1"
   ]
  },
  {
   "cell_type": "code",
   "execution_count": 39,
   "metadata": {},
   "outputs": [],
   "source": [
    "label_hmn_train_.reset_index(inplace=True, drop=True)"
   ]
  },
  {
   "cell_type": "code",
   "execution_count": 40,
   "metadata": {},
   "outputs": [
    {
     "data": {
      "text/html": [
       "<div>\n",
       "<style scoped>\n",
       "    .dataframe tbody tr th:only-of-type {\n",
       "        vertical-align: middle;\n",
       "    }\n",
       "\n",
       "    .dataframe tbody tr th {\n",
       "        vertical-align: top;\n",
       "    }\n",
       "\n",
       "    .dataframe thead th {\n",
       "        text-align: right;\n",
       "    }\n",
       "</style>\n",
       "<table border=\"1\" class=\"dataframe\">\n",
       "  <thead>\n",
       "    <tr style=\"text-align: right;\">\n",
       "      <th></th>\n",
       "      <th>ImageID</th>\n",
       "      <th>Confidence</th>\n",
       "      <th>label_code</th>\n",
       "      <th>XMin</th>\n",
       "      <th>YMin</th>\n",
       "      <th>XMax</th>\n",
       "      <th>YMax</th>\n",
       "    </tr>\n",
       "  </thead>\n",
       "  <tbody>\n",
       "    <tr>\n",
       "      <th>0</th>\n",
       "      <td>000002b66c9c498e</td>\n",
       "      <td>1</td>\n",
       "      <td>/m/01kcnl</td>\n",
       "      <td>0</td>\n",
       "      <td>0</td>\n",
       "      <td>1</td>\n",
       "      <td>1</td>\n",
       "    </tr>\n",
       "    <tr>\n",
       "      <th>1</th>\n",
       "      <td>000002b66c9c498e</td>\n",
       "      <td>1</td>\n",
       "      <td>/m/0b6w2z</td>\n",
       "      <td>0</td>\n",
       "      <td>0</td>\n",
       "      <td>1</td>\n",
       "      <td>1</td>\n",
       "    </tr>\n",
       "    <tr>\n",
       "      <th>2</th>\n",
       "      <td>000002b66c9c498e</td>\n",
       "      <td>1</td>\n",
       "      <td>/m/09q2t</td>\n",
       "      <td>0</td>\n",
       "      <td>0</td>\n",
       "      <td>1</td>\n",
       "      <td>1</td>\n",
       "    </tr>\n",
       "    <tr>\n",
       "      <th>3</th>\n",
       "      <td>000002b66c9c498e</td>\n",
       "      <td>1</td>\n",
       "      <td>/m/09j2d</td>\n",
       "      <td>0</td>\n",
       "      <td>0</td>\n",
       "      <td>1</td>\n",
       "      <td>1</td>\n",
       "    </tr>\n",
       "    <tr>\n",
       "      <th>4</th>\n",
       "      <td>000002b66c9c498e</td>\n",
       "      <td>1</td>\n",
       "      <td>/m/09g5pq</td>\n",
       "      <td>0</td>\n",
       "      <td>0</td>\n",
       "      <td>1</td>\n",
       "      <td>1</td>\n",
       "    </tr>\n",
       "  </tbody>\n",
       "</table>\n",
       "</div>"
      ],
      "text/plain": [
       "            ImageID  Confidence label_code  XMin  YMin  XMax  YMax\n",
       "0  000002b66c9c498e           1  /m/01kcnl     0     0     1     1\n",
       "1  000002b66c9c498e           1  /m/0b6w2z     0     0     1     1\n",
       "2  000002b66c9c498e           1   /m/09q2t     0     0     1     1\n",
       "3  000002b66c9c498e           1   /m/09j2d     0     0     1     1\n",
       "4  000002b66c9c498e           1  /m/09g5pq     0     0     1     1"
      ]
     },
     "execution_count": 40,
     "metadata": {},
     "output_type": "execute_result"
    }
   ],
   "source": [
    "label_hmn_train_.head()"
   ]
  },
  {
   "cell_type": "code",
   "execution_count": 41,
   "metadata": {},
   "outputs": [],
   "source": [
    "label_hmn_code_train = label_hmn_train.groupby('ImageID')['label_code'].agg(lambda x: ','.join(x)).reset_index()"
   ]
  },
  {
   "cell_type": "code",
   "execution_count": 42,
   "metadata": {},
   "outputs": [
    {
     "data": {
      "text/plain": [
       "(1741975, 2)"
      ]
     },
     "execution_count": 42,
     "metadata": {},
     "output_type": "execute_result"
    }
   ],
   "source": [
    "label_hmn_code_train.shape"
   ]
  },
  {
   "cell_type": "code",
   "execution_count": 43,
   "metadata": {},
   "outputs": [],
   "source": [
    "label_mch = pd.read_csv('../input/train_machine_labels.csv')"
   ]
  },
  {
   "cell_type": "code",
   "execution_count": 44,
   "metadata": {},
   "outputs": [
    {
     "data": {
      "text/html": [
       "<div>\n",
       "<style scoped>\n",
       "    .dataframe tbody tr th:only-of-type {\n",
       "        vertical-align: middle;\n",
       "    }\n",
       "\n",
       "    .dataframe tbody tr th {\n",
       "        vertical-align: top;\n",
       "    }\n",
       "\n",
       "    .dataframe thead th {\n",
       "        text-align: right;\n",
       "    }\n",
       "</style>\n",
       "<table border=\"1\" class=\"dataframe\">\n",
       "  <thead>\n",
       "    <tr style=\"text-align: right;\">\n",
       "      <th></th>\n",
       "      <th>ImageID</th>\n",
       "      <th>Source</th>\n",
       "      <th>LabelName</th>\n",
       "      <th>Confidence</th>\n",
       "    </tr>\n",
       "  </thead>\n",
       "  <tbody>\n",
       "    <tr>\n",
       "      <th>0</th>\n",
       "      <td>000002b66c9c498e</td>\n",
       "      <td>machine</td>\n",
       "      <td>/m/05_4_</td>\n",
       "      <td>0.7</td>\n",
       "    </tr>\n",
       "    <tr>\n",
       "      <th>1</th>\n",
       "      <td>000002b66c9c498e</td>\n",
       "      <td>machine</td>\n",
       "      <td>/m/0krfg</td>\n",
       "      <td>0.7</td>\n",
       "    </tr>\n",
       "    <tr>\n",
       "      <th>2</th>\n",
       "      <td>000002b66c9c498e</td>\n",
       "      <td>machine</td>\n",
       "      <td>/m/01kcnl</td>\n",
       "      <td>0.5</td>\n",
       "    </tr>\n",
       "    <tr>\n",
       "      <th>3</th>\n",
       "      <td>000002b97e5471a0</td>\n",
       "      <td>machine</td>\n",
       "      <td>/m/05_5t0l</td>\n",
       "      <td>0.9</td>\n",
       "    </tr>\n",
       "    <tr>\n",
       "      <th>4</th>\n",
       "      <td>000002b97e5471a0</td>\n",
       "      <td>machine</td>\n",
       "      <td>/m/0cgh4</td>\n",
       "      <td>0.8</td>\n",
       "    </tr>\n",
       "  </tbody>\n",
       "</table>\n",
       "</div>"
      ],
      "text/plain": [
       "            ImageID   Source   LabelName  Confidence\n",
       "0  000002b66c9c498e  machine    /m/05_4_         0.7\n",
       "1  000002b66c9c498e  machine    /m/0krfg         0.7\n",
       "2  000002b66c9c498e  machine   /m/01kcnl         0.5\n",
       "3  000002b97e5471a0  machine  /m/05_5t0l         0.9\n",
       "4  000002b97e5471a0  machine    /m/0cgh4         0.8"
      ]
     },
     "execution_count": 44,
     "metadata": {},
     "output_type": "execute_result"
    }
   ],
   "source": [
    "label_mch.head()"
   ]
  },
  {
   "cell_type": "code",
   "execution_count": 45,
   "metadata": {},
   "outputs": [
    {
     "data": {
      "text/plain": [
       "7509"
      ]
     },
     "execution_count": 45,
     "metadata": {},
     "output_type": "execute_result"
    }
   ],
   "source": [
    "label_mch['LabelName'].nunique()"
   ]
  },
  {
   "cell_type": "code",
   "execution_count": 46,
   "metadata": {},
   "outputs": [
    {
     "data": {
      "text/plain": [
       "(15259186, 4)"
      ]
     },
     "execution_count": 46,
     "metadata": {},
     "output_type": "execute_result"
    }
   ],
   "source": [
    "label_mch.shape"
   ]
  },
  {
   "cell_type": "code",
   "execution_count": 47,
   "metadata": {},
   "outputs": [
    {
     "data": {
      "text/plain": [
       "1708875"
      ]
     },
     "execution_count": 47,
     "metadata": {},
     "output_type": "execute_result"
    }
   ],
   "source": [
    "label_mch['ImageID'].nunique()"
   ]
  },
  {
   "cell_type": "code",
   "execution_count": 48,
   "metadata": {},
   "outputs": [],
   "source": [
    "label_mch_train = pd.merge(left=label_mch, right=class_desc_train, left_on='LabelName', right_on='label_code', how='inner')\n",
    "label_mch_train.drop('LabelName', axis=1, inplace=True)"
   ]
  },
  {
   "cell_type": "code",
   "execution_count": 49,
   "metadata": {},
   "outputs": [
    {
     "data": {
      "text/plain": [
       "1067"
      ]
     },
     "execution_count": 49,
     "metadata": {},
     "output_type": "execute_result"
    }
   ],
   "source": [
    "label_mch_train.loc[label_mch_train.Confidence==1,'label_code'].nunique()"
   ]
  },
  {
   "cell_type": "code",
   "execution_count": 50,
   "metadata": {},
   "outputs": [
    {
     "data": {
      "text/plain": [
       "4167"
      ]
     },
     "execution_count": 50,
     "metadata": {},
     "output_type": "execute_result"
    }
   ],
   "source": [
    "label_mch_train.loc[label_mch_train.Confidence==0.5,'label_code'].nunique()"
   ]
  },
  {
   "cell_type": "code",
   "execution_count": 51,
   "metadata": {},
   "outputs": [
    {
     "data": {
      "text/plain": [
       "(13409172, 5)"
      ]
     },
     "execution_count": 51,
     "metadata": {},
     "output_type": "execute_result"
    }
   ],
   "source": [
    "label_mch_train.shape"
   ]
  },
  {
   "cell_type": "code",
   "execution_count": 52,
   "metadata": {},
   "outputs": [
    {
     "data": {
      "text/plain": [
       "(13409172, 3)"
      ]
     },
     "execution_count": 52,
     "metadata": {},
     "output_type": "execute_result"
    }
   ],
   "source": [
    "label_mch_train[['ImageID','label_code','description']].drop_duplicates().shape"
   ]
  },
  {
   "cell_type": "code",
   "execution_count": 53,
   "metadata": {},
   "outputs": [
    {
     "data": {
      "text/plain": [
       "4657"
      ]
     },
     "execution_count": 53,
     "metadata": {},
     "output_type": "execute_result"
    }
   ],
   "source": [
    "label_mch_train['label_code'].nunique()"
   ]
  },
  {
   "cell_type": "code",
   "execution_count": 54,
   "metadata": {},
   "outputs": [
    {
     "data": {
      "text/plain": [
       "1699701"
      ]
     },
     "execution_count": 54,
     "metadata": {},
     "output_type": "execute_result"
    }
   ],
   "source": [
    "label_mch_train['ImageID'].nunique()"
   ]
  },
  {
   "cell_type": "code",
   "execution_count": 55,
   "metadata": {
    "scrolled": true
   },
   "outputs": [
    {
     "data": {
      "text/html": [
       "<div>\n",
       "<style scoped>\n",
       "    .dataframe tbody tr th:only-of-type {\n",
       "        vertical-align: middle;\n",
       "    }\n",
       "\n",
       "    .dataframe tbody tr th {\n",
       "        vertical-align: top;\n",
       "    }\n",
       "\n",
       "    .dataframe thead th {\n",
       "        text-align: right;\n",
       "    }\n",
       "</style>\n",
       "<table border=\"1\" class=\"dataframe\">\n",
       "  <thead>\n",
       "    <tr style=\"text-align: right;\">\n",
       "      <th></th>\n",
       "      <th>ImageID</th>\n",
       "      <th>Source</th>\n",
       "      <th>Confidence</th>\n",
       "      <th>label_code</th>\n",
       "      <th>description</th>\n",
       "    </tr>\n",
       "  </thead>\n",
       "  <tbody>\n",
       "    <tr>\n",
       "      <th>7154</th>\n",
       "      <td>000032046c3f8371</td>\n",
       "      <td>machine</td>\n",
       "      <td>0.5</td>\n",
       "      <td>/m/0krfg</td>\n",
       "      <td>Meal</td>\n",
       "    </tr>\n",
       "    <tr>\n",
       "      <th>7155</th>\n",
       "      <td>0000615b5a80f660</td>\n",
       "      <td>machine</td>\n",
       "      <td>0.5</td>\n",
       "      <td>/m/0krfg</td>\n",
       "      <td>Meal</td>\n",
       "    </tr>\n",
       "    <tr>\n",
       "      <th>7183</th>\n",
       "      <td>0007b8c30150e834</td>\n",
       "      <td>machine</td>\n",
       "      <td>0.5</td>\n",
       "      <td>/m/0krfg</td>\n",
       "      <td>Meal</td>\n",
       "    </tr>\n",
       "    <tr>\n",
       "      <th>7187</th>\n",
       "      <td>00089480311a6391</td>\n",
       "      <td>machine</td>\n",
       "      <td>0.5</td>\n",
       "      <td>/m/0krfg</td>\n",
       "      <td>Meal</td>\n",
       "    </tr>\n",
       "    <tr>\n",
       "      <th>7191</th>\n",
       "      <td>0009c4db6ea55210</td>\n",
       "      <td>machine</td>\n",
       "      <td>0.5</td>\n",
       "      <td>/m/0krfg</td>\n",
       "      <td>Meal</td>\n",
       "    </tr>\n",
       "  </tbody>\n",
       "</table>\n",
       "</div>"
      ],
      "text/plain": [
       "               ImageID   Source  Confidence label_code description\n",
       "7154  000032046c3f8371  machine         0.5   /m/0krfg        Meal\n",
       "7155  0000615b5a80f660  machine         0.5   /m/0krfg        Meal\n",
       "7183  0007b8c30150e834  machine         0.5   /m/0krfg        Meal\n",
       "7187  00089480311a6391  machine         0.5   /m/0krfg        Meal\n",
       "7191  0009c4db6ea55210  machine         0.5   /m/0krfg        Meal"
      ]
     },
     "execution_count": 55,
     "metadata": {},
     "output_type": "execute_result"
    }
   ],
   "source": [
    "label_mch_train[label_mch_train.Confidence<=0.5].head()"
   ]
  },
  {
   "cell_type": "code",
   "execution_count": 56,
   "metadata": {},
   "outputs": [],
   "source": [
    "label_mch_code_train = label_mch_train.groupby('ImageID')['label_code'].agg(lambda x: ','.join(x)).reset_index()"
   ]
  },
  {
   "cell_type": "code",
   "execution_count": 57,
   "metadata": {},
   "outputs": [
    {
     "data": {
      "text/plain": [
       "(1699701, 2)"
      ]
     },
     "execution_count": 57,
     "metadata": {},
     "output_type": "execute_result"
    }
   ],
   "source": [
    "label_mch_code_train.shape"
   ]
  },
  {
   "cell_type": "code",
   "execution_count": 58,
   "metadata": {},
   "outputs": [
    {
     "data": {
      "text/html": [
       "<div>\n",
       "<style scoped>\n",
       "    .dataframe tbody tr th:only-of-type {\n",
       "        vertical-align: middle;\n",
       "    }\n",
       "\n",
       "    .dataframe tbody tr th {\n",
       "        vertical-align: top;\n",
       "    }\n",
       "\n",
       "    .dataframe thead th {\n",
       "        text-align: right;\n",
       "    }\n",
       "</style>\n",
       "<table border=\"1\" class=\"dataframe\">\n",
       "  <thead>\n",
       "    <tr style=\"text-align: right;\">\n",
       "      <th></th>\n",
       "      <th>ImageID</th>\n",
       "      <th>Source</th>\n",
       "      <th>Confidence</th>\n",
       "      <th>label_code</th>\n",
       "      <th>description</th>\n",
       "    </tr>\n",
       "  </thead>\n",
       "  <tbody>\n",
       "    <tr>\n",
       "      <th>0</th>\n",
       "      <td>000002b66c9c498e</td>\n",
       "      <td>crowdsource-verification</td>\n",
       "      <td>1</td>\n",
       "      <td>/m/01kcnl</td>\n",
       "      <td>Birthday</td>\n",
       "    </tr>\n",
       "    <tr>\n",
       "      <th>1957154</th>\n",
       "      <td>000002b66c9c498e</td>\n",
       "      <td>verification</td>\n",
       "      <td>1</td>\n",
       "      <td>/m/0b6w2z</td>\n",
       "      <td>Buttercream</td>\n",
       "    </tr>\n",
       "    <tr>\n",
       "      <th>1956772</th>\n",
       "      <td>000002b66c9c498e</td>\n",
       "      <td>verification</td>\n",
       "      <td>1</td>\n",
       "      <td>/m/09q2t</td>\n",
       "      <td>Brown</td>\n",
       "    </tr>\n",
       "    <tr>\n",
       "      <th>1345932</th>\n",
       "      <td>000002b66c9c498e</td>\n",
       "      <td>verification</td>\n",
       "      <td>1</td>\n",
       "      <td>/m/09j2d</td>\n",
       "      <td>Clothing</td>\n",
       "    </tr>\n",
       "    <tr>\n",
       "      <th>1345432</th>\n",
       "      <td>000002b66c9c498e</td>\n",
       "      <td>verification</td>\n",
       "      <td>1</td>\n",
       "      <td>/m/09g5pq</td>\n",
       "      <td>People</td>\n",
       "    </tr>\n",
       "  </tbody>\n",
       "</table>\n",
       "</div>"
      ],
      "text/plain": [
       "                  ImageID                    Source  Confidence label_code  \\\n",
       "0        000002b66c9c498e  crowdsource-verification           1  /m/01kcnl   \n",
       "1957154  000002b66c9c498e              verification           1  /m/0b6w2z   \n",
       "1956772  000002b66c9c498e              verification           1   /m/09q2t   \n",
       "1345932  000002b66c9c498e              verification           1   /m/09j2d   \n",
       "1345432  000002b66c9c498e              verification           1  /m/09g5pq   \n",
       "\n",
       "         description  \n",
       "0           Birthday  \n",
       "1957154  Buttercream  \n",
       "1956772        Brown  \n",
       "1345932     Clothing  \n",
       "1345432       People  "
      ]
     },
     "execution_count": 58,
     "metadata": {},
     "output_type": "execute_result"
    }
   ],
   "source": [
    "label_hmn_train[~label_hmn_train['label_code'].duplicated()].head()"
   ]
  },
  {
   "cell_type": "code",
   "execution_count": 59,
   "metadata": {},
   "outputs": [],
   "source": [
    "label_hmn_train_set = set([tuple(line) for line in label_hmn_train[['ImageID', 'label_code']].values])\n",
    "label_mch_train_set = set([tuple(line) for line in label_mch_train[['ImageID', 'label_code']].values])\n",
    "label_mch_train_diff = pd.DataFrame(list(label_mch_train_set.difference(label_hmn_train_set)))\n",
    "label_mch_train_diff.rename(columns={0:'ImageID', 1:'label_code'}, inplace=True)"
   ]
  },
  {
   "cell_type": "code",
   "execution_count": 60,
   "metadata": {},
   "outputs": [
    {
     "data": {
      "text/plain": [
       "(11417764, 2)"
      ]
     },
     "execution_count": 60,
     "metadata": {},
     "output_type": "execute_result"
    }
   ],
   "source": [
    "label_mch_train_diff.shape"
   ]
  },
  {
   "cell_type": "code",
   "execution_count": 61,
   "metadata": {},
   "outputs": [
    {
     "data": {
      "text/html": [
       "<div>\n",
       "<style scoped>\n",
       "    .dataframe tbody tr th:only-of-type {\n",
       "        vertical-align: middle;\n",
       "    }\n",
       "\n",
       "    .dataframe tbody tr th {\n",
       "        vertical-align: top;\n",
       "    }\n",
       "\n",
       "    .dataframe thead th {\n",
       "        text-align: right;\n",
       "    }\n",
       "</style>\n",
       "<table border=\"1\" class=\"dataframe\">\n",
       "  <thead>\n",
       "    <tr style=\"text-align: right;\">\n",
       "      <th></th>\n",
       "      <th>ImageID</th>\n",
       "      <th>label_code</th>\n",
       "    </tr>\n",
       "  </thead>\n",
       "  <tbody>\n",
       "    <tr>\n",
       "      <th>0</th>\n",
       "      <td>42ca47f823a61104</td>\n",
       "      <td>/m/04ggh49</td>\n",
       "    </tr>\n",
       "    <tr>\n",
       "      <th>1</th>\n",
       "      <td>a97a5bc46688e9cc</td>\n",
       "      <td>/m/06fvc</td>\n",
       "    </tr>\n",
       "    <tr>\n",
       "      <th>2</th>\n",
       "      <td>2f9279e8817d4834</td>\n",
       "      <td>/m/02fm9k</td>\n",
       "    </tr>\n",
       "    <tr>\n",
       "      <th>3</th>\n",
       "      <td>d791f1b3bc6b5cc2</td>\n",
       "      <td>/m/03cg49</td>\n",
       "    </tr>\n",
       "    <tr>\n",
       "      <th>4</th>\n",
       "      <td>75cb3337004b7be5</td>\n",
       "      <td>/m/020g49</td>\n",
       "    </tr>\n",
       "  </tbody>\n",
       "</table>\n",
       "</div>"
      ],
      "text/plain": [
       "            ImageID  label_code\n",
       "0  42ca47f823a61104  /m/04ggh49\n",
       "1  a97a5bc46688e9cc    /m/06fvc\n",
       "2  2f9279e8817d4834   /m/02fm9k\n",
       "3  d791f1b3bc6b5cc2   /m/03cg49\n",
       "4  75cb3337004b7be5   /m/020g49"
      ]
     },
     "execution_count": 61,
     "metadata": {},
     "output_type": "execute_result"
    }
   ],
   "source": [
    "label_mch_train_diff.head()"
   ]
  },
  {
   "cell_type": "code",
   "execution_count": 62,
   "metadata": {},
   "outputs": [],
   "source": [
    "label_mch_train_ = pd.merge(left=label_mch_train_diff, right=label_mch_train[['ImageID', 'Confidence', 'label_code']], on=['ImageID', 'label_code'], how='left')\n",
    "label_mch_train_['XMin'] = 0\n",
    "label_mch_train_['YMin'] = 0\n",
    "label_mch_train_['XMax'] = 1\n",
    "label_mch_train_['YMax'] = 1\n",
    "label_mch_train_ = label_mch_train_[['ImageID', 'Confidence', 'label_code', 'XMin', 'YMin', 'XMax', 'YMax']]"
   ]
  },
  {
   "cell_type": "code",
   "execution_count": 63,
   "metadata": {},
   "outputs": [
    {
     "data": {
      "text/plain": [
       "(11417764, 7)"
      ]
     },
     "execution_count": 63,
     "metadata": {},
     "output_type": "execute_result"
    }
   ],
   "source": [
    "label_mch_train_.shape"
   ]
  },
  {
   "cell_type": "code",
   "execution_count": 64,
   "metadata": {
    "scrolled": true
   },
   "outputs": [
    {
     "data": {
      "text/html": [
       "<div>\n",
       "<style scoped>\n",
       "    .dataframe tbody tr th:only-of-type {\n",
       "        vertical-align: middle;\n",
       "    }\n",
       "\n",
       "    .dataframe tbody tr th {\n",
       "        vertical-align: top;\n",
       "    }\n",
       "\n",
       "    .dataframe thead th {\n",
       "        text-align: right;\n",
       "    }\n",
       "</style>\n",
       "<table border=\"1\" class=\"dataframe\">\n",
       "  <thead>\n",
       "    <tr style=\"text-align: right;\">\n",
       "      <th></th>\n",
       "      <th>ImageID</th>\n",
       "      <th>Confidence</th>\n",
       "      <th>label_code</th>\n",
       "      <th>XMin</th>\n",
       "      <th>YMin</th>\n",
       "      <th>XMax</th>\n",
       "      <th>YMax</th>\n",
       "    </tr>\n",
       "  </thead>\n",
       "  <tbody>\n",
       "    <tr>\n",
       "      <th>0</th>\n",
       "      <td>42ca47f823a61104</td>\n",
       "      <td>0.6</td>\n",
       "      <td>/m/04ggh49</td>\n",
       "      <td>0</td>\n",
       "      <td>0</td>\n",
       "      <td>1</td>\n",
       "      <td>1</td>\n",
       "    </tr>\n",
       "    <tr>\n",
       "      <th>1</th>\n",
       "      <td>a97a5bc46688e9cc</td>\n",
       "      <td>0.9</td>\n",
       "      <td>/m/06fvc</td>\n",
       "      <td>0</td>\n",
       "      <td>0</td>\n",
       "      <td>1</td>\n",
       "      <td>1</td>\n",
       "    </tr>\n",
       "    <tr>\n",
       "      <th>2</th>\n",
       "      <td>2f9279e8817d4834</td>\n",
       "      <td>0.7</td>\n",
       "      <td>/m/02fm9k</td>\n",
       "      <td>0</td>\n",
       "      <td>0</td>\n",
       "      <td>1</td>\n",
       "      <td>1</td>\n",
       "    </tr>\n",
       "    <tr>\n",
       "      <th>3</th>\n",
       "      <td>d791f1b3bc6b5cc2</td>\n",
       "      <td>0.5</td>\n",
       "      <td>/m/03cg49</td>\n",
       "      <td>0</td>\n",
       "      <td>0</td>\n",
       "      <td>1</td>\n",
       "      <td>1</td>\n",
       "    </tr>\n",
       "    <tr>\n",
       "      <th>4</th>\n",
       "      <td>75cb3337004b7be5</td>\n",
       "      <td>0.7</td>\n",
       "      <td>/m/020g49</td>\n",
       "      <td>0</td>\n",
       "      <td>0</td>\n",
       "      <td>1</td>\n",
       "      <td>1</td>\n",
       "    </tr>\n",
       "  </tbody>\n",
       "</table>\n",
       "</div>"
      ],
      "text/plain": [
       "            ImageID  Confidence  label_code  XMin  YMin  XMax  YMax\n",
       "0  42ca47f823a61104         0.6  /m/04ggh49     0     0     1     1\n",
       "1  a97a5bc46688e9cc         0.9    /m/06fvc     0     0     1     1\n",
       "2  2f9279e8817d4834         0.7   /m/02fm9k     0     0     1     1\n",
       "3  d791f1b3bc6b5cc2         0.5   /m/03cg49     0     0     1     1\n",
       "4  75cb3337004b7be5         0.7   /m/020g49     0     0     1     1"
      ]
     },
     "execution_count": 64,
     "metadata": {},
     "output_type": "execute_result"
    }
   ],
   "source": [
    "label_mch_train_.head()"
   ]
  },
  {
   "cell_type": "code",
   "execution_count": 65,
   "metadata": {},
   "outputs": [],
   "source": [
    "label_hmn_train_set = set([tuple(line) for line in label_hmn_train_.values])\n",
    "bbox_train_set = set([tuple(line) for line in bbox_train_.values])\n",
    "label_bbox_train_ = pd.DataFrame(list(bbox_train_set.difference(label_hmn_train_set)))\n",
    "label_bbox_train_.rename(columns={0:'ImageID', 1:'Confidence', 2:'label_code', 3:'XMin', 4:'YMin', 5:'XMax', 6:'YMax'}, inplace=True)"
   ]
  },
  {
   "cell_type": "code",
   "execution_count": 66,
   "metadata": {},
   "outputs": [
    {
     "data": {
      "text/html": [
       "<div>\n",
       "<style scoped>\n",
       "    .dataframe tbody tr th:only-of-type {\n",
       "        vertical-align: middle;\n",
       "    }\n",
       "\n",
       "    .dataframe tbody tr th {\n",
       "        vertical-align: top;\n",
       "    }\n",
       "\n",
       "    .dataframe thead th {\n",
       "        text-align: right;\n",
       "    }\n",
       "</style>\n",
       "<table border=\"1\" class=\"dataframe\">\n",
       "  <thead>\n",
       "    <tr style=\"text-align: right;\">\n",
       "      <th></th>\n",
       "      <th>ImageID</th>\n",
       "      <th>Confidence</th>\n",
       "      <th>label_code</th>\n",
       "      <th>XMin</th>\n",
       "      <th>YMin</th>\n",
       "      <th>XMax</th>\n",
       "      <th>YMax</th>\n",
       "    </tr>\n",
       "  </thead>\n",
       "  <tbody>\n",
       "    <tr>\n",
       "      <th>0</th>\n",
       "      <td>2c4fa270b5971e47</td>\n",
       "      <td>1</td>\n",
       "      <td>/m/09j2d</td>\n",
       "      <td>0.306667</td>\n",
       "      <td>0.805625</td>\n",
       "      <td>0.372500</td>\n",
       "      <td>0.889375</td>\n",
       "    </tr>\n",
       "    <tr>\n",
       "      <th>1</th>\n",
       "      <td>7d51db71b4fc5423</td>\n",
       "      <td>1</td>\n",
       "      <td>/m/0199g</td>\n",
       "      <td>0.426061</td>\n",
       "      <td>0.375000</td>\n",
       "      <td>0.610542</td>\n",
       "      <td>0.472656</td>\n",
       "    </tr>\n",
       "    <tr>\n",
       "      <th>2</th>\n",
       "      <td>ca5f3777141d2190</td>\n",
       "      <td>1</td>\n",
       "      <td>/m/0k65p</td>\n",
       "      <td>0.270000</td>\n",
       "      <td>0.528243</td>\n",
       "      <td>0.364375</td>\n",
       "      <td>0.776151</td>\n",
       "    </tr>\n",
       "    <tr>\n",
       "      <th>3</th>\n",
       "      <td>7827e908eba595fd</td>\n",
       "      <td>1</td>\n",
       "      <td>/m/09j2d</td>\n",
       "      <td>0.000000</td>\n",
       "      <td>0.228333</td>\n",
       "      <td>0.075625</td>\n",
       "      <td>0.780833</td>\n",
       "    </tr>\n",
       "    <tr>\n",
       "      <th>4</th>\n",
       "      <td>f80ca2781911da6c</td>\n",
       "      <td>1</td>\n",
       "      <td>/m/07j7r</td>\n",
       "      <td>0.246250</td>\n",
       "      <td>0.393333</td>\n",
       "      <td>0.591250</td>\n",
       "      <td>0.871667</td>\n",
       "    </tr>\n",
       "  </tbody>\n",
       "</table>\n",
       "</div>"
      ],
      "text/plain": [
       "            ImageID  Confidence label_code      XMin      YMin      XMax  \\\n",
       "0  2c4fa270b5971e47           1   /m/09j2d  0.306667  0.805625  0.372500   \n",
       "1  7d51db71b4fc5423           1   /m/0199g  0.426061  0.375000  0.610542   \n",
       "2  ca5f3777141d2190           1   /m/0k65p  0.270000  0.528243  0.364375   \n",
       "3  7827e908eba595fd           1   /m/09j2d  0.000000  0.228333  0.075625   \n",
       "4  f80ca2781911da6c           1   /m/07j7r  0.246250  0.393333  0.591250   \n",
       "\n",
       "       YMax  \n",
       "0  0.889375  \n",
       "1  0.472656  \n",
       "2  0.776151  \n",
       "3  0.780833  \n",
       "4  0.871667  "
      ]
     },
     "execution_count": 66,
     "metadata": {},
     "output_type": "execute_result"
    }
   ],
   "source": [
    "label_bbox_train_.head()"
   ]
  },
  {
   "cell_type": "code",
   "execution_count": 67,
   "metadata": {},
   "outputs": [
    {
     "data": {
      "text/plain": [
       "(12135951, 7)"
      ]
     },
     "execution_count": 67,
     "metadata": {},
     "output_type": "execute_result"
    }
   ],
   "source": [
    "label_bbox_train_.shape"
   ]
  },
  {
   "cell_type": "code",
   "execution_count": 68,
   "metadata": {},
   "outputs": [
    {
     "data": {
      "text/plain": [
       "7172"
      ]
     },
     "execution_count": 68,
     "metadata": {},
     "output_type": "execute_result"
    }
   ],
   "source": [
    "label_hmn_train_['label_code'].nunique()"
   ]
  },
  {
   "cell_type": "code",
   "execution_count": 69,
   "metadata": {},
   "outputs": [],
   "source": [
    "label_hmn_train_cnt = label_hmn_train_[['ImageID','label_code']].groupby('label_code').count()"
   ]
  },
  {
   "cell_type": "code",
   "execution_count": 70,
   "metadata": {},
   "outputs": [],
   "source": [
    "label_hmn_train_cnt.sort_values(by='ImageID', ascending=False, inplace=True)"
   ]
  },
  {
   "cell_type": "code",
   "execution_count": 71,
   "metadata": {
    "scrolled": true
   },
   "outputs": [
    {
     "data": {
      "text/plain": [
       "<matplotlib.axes._subplots.AxesSubplot at 0x7fe7ffedb358>"
      ]
     },
     "execution_count": 71,
     "metadata": {},
     "output_type": "execute_result"
    },
    {
     "data": {
      "image/png": "[encoded data removed]",
      "text/plain": [
       "<Figure size 432x288 with 1 Axes>"
      ]
     },
     "metadata": {
      "needs_background": "light"
     },
     "output_type": "display_data"
    }
   ],
   "source": [
    "label_hmn_train_cnt.plot()"
   ]
  },
  {
   "cell_type": "code",
   "execution_count": 72,
   "metadata": {},
   "outputs": [
    {
     "data": {
      "text/plain": [
       "ImageID    4\n",
       "dtype: int64"
      ]
     },
     "execution_count": 72,
     "metadata": {},
     "output_type": "execute_result"
    }
   ],
   "source": [
    "(label_hmn_train_cnt==1).sum()"
   ]
  },
  {
   "cell_type": "code",
   "execution_count": 73,
   "metadata": {},
   "outputs": [
    {
     "data": {
      "text/plain": [
       "4561"
      ]
     },
     "execution_count": 73,
     "metadata": {},
     "output_type": "execute_result"
    }
   ],
   "source": [
    "label_mch_train_['label_code'].nunique()"
   ]
  },
  {
   "cell_type": "code",
   "execution_count": 74,
   "metadata": {},
   "outputs": [],
   "source": [
    "label_mch_train_cnt = label_mch_train_[['ImageID','label_code']].groupby('label_code').count()"
   ]
  },
  {
   "cell_type": "code",
   "execution_count": 75,
   "metadata": {},
   "outputs": [],
   "source": [
    "label_mch_train_cnt.sort_values(by='ImageID', ascending=False, inplace=True)"
   ]
  },
  {
   "cell_type": "code",
   "execution_count": 76,
   "metadata": {},
   "outputs": [
    {
     "data": {
      "text/html": [
       "<div>\n",
       "<style scoped>\n",
       "    .dataframe tbody tr th:only-of-type {\n",
       "        vertical-align: middle;\n",
       "    }\n",
       "\n",
       "    .dataframe tbody tr th {\n",
       "        vertical-align: top;\n",
       "    }\n",
       "\n",
       "    .dataframe thead th {\n",
       "        text-align: right;\n",
       "    }\n",
       "</style>\n",
       "<table border=\"1\" class=\"dataframe\">\n",
       "  <thead>\n",
       "    <tr style=\"text-align: right;\">\n",
       "      <th></th>\n",
       "      <th>ImageID</th>\n",
       "    </tr>\n",
       "    <tr>\n",
       "      <th>label_code</th>\n",
       "      <th></th>\n",
       "    </tr>\n",
       "  </thead>\n",
       "  <tbody>\n",
       "    <tr>\n",
       "      <th>/m/0jjw</th>\n",
       "      <td>113690</td>\n",
       "    </tr>\n",
       "    <tr>\n",
       "      <th>/m/09g5pq</th>\n",
       "      <td>105216</td>\n",
       "    </tr>\n",
       "    <tr>\n",
       "      <th>/m/06ntj</th>\n",
       "      <td>83339</td>\n",
       "    </tr>\n",
       "    <tr>\n",
       "      <th>/m/0c9ph5</th>\n",
       "      <td>77177</td>\n",
       "    </tr>\n",
       "    <tr>\n",
       "      <th>/m/01g6gs</th>\n",
       "      <td>72831</td>\n",
       "    </tr>\n",
       "  </tbody>\n",
       "</table>\n",
       "</div>"
      ],
      "text/plain": [
       "            ImageID\n",
       "label_code         \n",
       "/m/0jjw      113690\n",
       "/m/09g5pq    105216\n",
       "/m/06ntj      83339\n",
       "/m/0c9ph5     77177\n",
       "/m/01g6gs     72831"
      ]
     },
     "execution_count": 76,
     "metadata": {},
     "output_type": "execute_result"
    }
   ],
   "source": [
    "label_mch_train_cnt.head()"
   ]
  },
  {
   "cell_type": "code",
   "execution_count": 77,
   "metadata": {
    "scrolled": true
   },
   "outputs": [
    {
     "data": {
      "text/plain": [
       "<matplotlib.axes._subplots.AxesSubplot at 0x7fe7ffe62400>"
      ]
     },
     "execution_count": 77,
     "metadata": {},
     "output_type": "execute_result"
    },
    {
     "data": {
      "image/png": "[encoded data removed]",
      "text/plain": [
       "<Figure size 432x288 with 1 Axes>"
      ]
     },
     "metadata": {
      "needs_background": "light"
     },
     "output_type": "display_data"
    }
   ],
   "source": [
    "label_mch_train_cnt.plot()"
   ]
  },
  {
   "cell_type": "code",
   "execution_count": 78,
   "metadata": {},
   "outputs": [
    {
     "data": {
      "text/plain": [
       "ImageID    100\n",
       "dtype: int64"
      ]
     },
     "execution_count": 78,
     "metadata": {},
     "output_type": "execute_result"
    }
   ],
   "source": [
    "(label_mch_train_cnt==1).sum()"
   ]
  },
  {
   "cell_type": "code",
   "execution_count": 79,
   "metadata": {},
   "outputs": [
    {
     "data": {
      "text/plain": [
       "553"
      ]
     },
     "execution_count": 79,
     "metadata": {},
     "output_type": "execute_result"
    }
   ],
   "source": [
    "label_bbox_train_['label_code'].nunique()"
   ]
  },
  {
   "cell_type": "code",
   "execution_count": 80,
   "metadata": {},
   "outputs": [],
   "source": [
    "label_bbox_train_cnt = label_bbox_train_[['ImageID','label_code']].groupby('label_code').count()"
   ]
  },
  {
   "cell_type": "code",
   "execution_count": 81,
   "metadata": {},
   "outputs": [],
   "source": [
    "label_bbox_train_cnt.sort_values(by='ImageID', ascending=False, inplace=True)"
   ]
  },
  {
   "cell_type": "code",
   "execution_count": 82,
   "metadata": {},
   "outputs": [
    {
     "data": {
      "text/html": [
       "<div>\n",
       "<style scoped>\n",
       "    .dataframe tbody tr th:only-of-type {\n",
       "        vertical-align: middle;\n",
       "    }\n",
       "\n",
       "    .dataframe tbody tr th {\n",
       "        vertical-align: top;\n",
       "    }\n",
       "\n",
       "    .dataframe thead th {\n",
       "        text-align: right;\n",
       "    }\n",
       "</style>\n",
       "<table border=\"1\" class=\"dataframe\">\n",
       "  <thead>\n",
       "    <tr style=\"text-align: right;\">\n",
       "      <th></th>\n",
       "      <th>ImageID</th>\n",
       "    </tr>\n",
       "    <tr>\n",
       "      <th>label_code</th>\n",
       "      <th></th>\n",
       "    </tr>\n",
       "  </thead>\n",
       "  <tbody>\n",
       "    <tr>\n",
       "      <th>/m/09j2d</th>\n",
       "      <td>1438128</td>\n",
       "    </tr>\n",
       "    <tr>\n",
       "      <th>/m/07j7r</th>\n",
       "      <td>1051270</td>\n",
       "    </tr>\n",
       "    <tr>\n",
       "      <th>/m/0dzct</th>\n",
       "      <td>1037702</td>\n",
       "    </tr>\n",
       "    <tr>\n",
       "      <th>/m/01g317</th>\n",
       "      <td>1034685</td>\n",
       "    </tr>\n",
       "    <tr>\n",
       "      <th>/m/09j5n</th>\n",
       "      <td>744473</td>\n",
       "    </tr>\n",
       "  </tbody>\n",
       "</table>\n",
       "</div>"
      ],
      "text/plain": [
       "            ImageID\n",
       "label_code         \n",
       "/m/09j2d    1438128\n",
       "/m/07j7r    1051270\n",
       "/m/0dzct    1037702\n",
       "/m/01g317   1034685\n",
       "/m/09j5n     744473"
      ]
     },
     "execution_count": 82,
     "metadata": {},
     "output_type": "execute_result"
    }
   ],
   "source": [
    "label_bbox_train_cnt.head()"
   ]
  },
  {
   "cell_type": "code",
   "execution_count": 83,
   "metadata": {
    "scrolled": true
   },
   "outputs": [
    {
     "data": {
      "text/plain": [
       "<matplotlib.axes._subplots.AxesSubplot at 0x7fe7ffd78a58>"
      ]
     },
     "execution_count": 83,
     "metadata": {},
     "output_type": "execute_result"
    },
    {
     "data": {
      "image/png": "[encoded data removed]",
      "text/plain": [
       "<Figure size 432x288 with 1 Axes>"
      ]
     },
     "metadata": {
      "needs_background": "light"
     },
     "output_type": "display_data"
    }
   ],
   "source": [
    "label_bbox_train_cnt.plot()"
   ]
  },
  {
   "cell_type": "code",
   "execution_count": 84,
   "metadata": {},
   "outputs": [
    {
     "data": {
      "text/plain": [
       "(ImageID    1438128\n",
       " dtype: int64, ImageID    35\n",
       " dtype: int64)"
      ]
     },
     "execution_count": 84,
     "metadata": {},
     "output_type": "execute_result"
    }
   ],
   "source": [
    "label_bbox_train_cnt.max(), label_bbox_train_cnt.min()"
   ]
  },
  {
   "cell_type": "code",
   "execution_count": 85,
   "metadata": {},
   "outputs": [],
   "source": [
    "label_hmn_train_['source'] = 'human'\n",
    "label_mch_train_['source'] = 'machine'\n",
    "label_bbox_train_['source'] = 'bbox'"
   ]
  },
  {
   "cell_type": "code",
   "execution_count": 86,
   "metadata": {
    "scrolled": true
   },
   "outputs": [
    {
     "data": {
      "text/html": [
       "<div>\n",
       "<style scoped>\n",
       "    .dataframe tbody tr th:only-of-type {\n",
       "        vertical-align: middle;\n",
       "    }\n",
       "\n",
       "    .dataframe tbody tr th {\n",
       "        vertical-align: top;\n",
       "    }\n",
       "\n",
       "    .dataframe thead th {\n",
       "        text-align: right;\n",
       "    }\n",
       "</style>\n",
       "<table border=\"1\" class=\"dataframe\">\n",
       "  <thead>\n",
       "    <tr style=\"text-align: right;\">\n",
       "      <th></th>\n",
       "      <th>ImageID</th>\n",
       "      <th>Confidence</th>\n",
       "      <th>label_code</th>\n",
       "      <th>XMin</th>\n",
       "      <th>YMin</th>\n",
       "      <th>XMax</th>\n",
       "      <th>YMax</th>\n",
       "      <th>source</th>\n",
       "      <th>description</th>\n",
       "    </tr>\n",
       "  </thead>\n",
       "  <tbody>\n",
       "    <tr>\n",
       "      <th>0</th>\n",
       "      <td>000002b66c9c498e</td>\n",
       "      <td>1.0</td>\n",
       "      <td>/m/01kcnl</td>\n",
       "      <td>0.0</td>\n",
       "      <td>0.0</td>\n",
       "      <td>1.0</td>\n",
       "      <td>1.0</td>\n",
       "      <td>human</td>\n",
       "      <td>Birthday</td>\n",
       "    </tr>\n",
       "    <tr>\n",
       "      <th>1</th>\n",
       "      <td>000002b66c9c498e</td>\n",
       "      <td>1.0</td>\n",
       "      <td>/m/0b6w2z</td>\n",
       "      <td>0.0</td>\n",
       "      <td>0.0</td>\n",
       "      <td>1.0</td>\n",
       "      <td>1.0</td>\n",
       "      <td>human</td>\n",
       "      <td>Buttercream</td>\n",
       "    </tr>\n",
       "    <tr>\n",
       "      <th>2</th>\n",
       "      <td>000002b66c9c498e</td>\n",
       "      <td>1.0</td>\n",
       "      <td>/m/09q2t</td>\n",
       "      <td>0.0</td>\n",
       "      <td>0.0</td>\n",
       "      <td>1.0</td>\n",
       "      <td>1.0</td>\n",
       "      <td>human</td>\n",
       "      <td>Brown</td>\n",
       "    </tr>\n",
       "    <tr>\n",
       "      <th>3</th>\n",
       "      <td>000002b66c9c498e</td>\n",
       "      <td>1.0</td>\n",
       "      <td>/m/09j2d</td>\n",
       "      <td>0.0</td>\n",
       "      <td>0.0</td>\n",
       "      <td>1.0</td>\n",
       "      <td>1.0</td>\n",
       "      <td>human</td>\n",
       "      <td>Clothing</td>\n",
       "    </tr>\n",
       "    <tr>\n",
       "      <th>4</th>\n",
       "      <td>000002b66c9c498e</td>\n",
       "      <td>1.0</td>\n",
       "      <td>/m/09g5pq</td>\n",
       "      <td>0.0</td>\n",
       "      <td>0.0</td>\n",
       "      <td>1.0</td>\n",
       "      <td>1.0</td>\n",
       "      <td>human</td>\n",
       "      <td>People</td>\n",
       "    </tr>\n",
       "  </tbody>\n",
       "</table>\n",
       "</div>"
      ],
      "text/plain": [
       "            ImageID  Confidence label_code  XMin  YMin  XMax  YMax source  \\\n",
       "0  000002b66c9c498e         1.0  /m/01kcnl   0.0   0.0   1.0   1.0  human   \n",
       "1  000002b66c9c498e         1.0  /m/0b6w2z   0.0   0.0   1.0   1.0  human   \n",
       "2  000002b66c9c498e         1.0   /m/09q2t   0.0   0.0   1.0   1.0  human   \n",
       "3  000002b66c9c498e         1.0   /m/09j2d   0.0   0.0   1.0   1.0  human   \n",
       "4  000002b66c9c498e         1.0  /m/09g5pq   0.0   0.0   1.0   1.0  human   \n",
       "\n",
       "   description  \n",
       "0     Birthday  \n",
       "1  Buttercream  \n",
       "2        Brown  \n",
       "3     Clothing  \n",
       "4       People  "
      ]
     },
     "execution_count": 86,
     "metadata": {},
     "output_type": "execute_result"
    }
   ],
   "source": [
    "label_train_ = pd.concat([label_hmn_train_, label_bbox_train_, label_mch_train_])\n",
    "label_train_ = label_train_.merge(right=class_desc, on='label_code', how='left')\n",
    "label_train_.reset_index(drop=True, inplace=True)\n",
    "label_train_.head()"
   ]
  },
  {
   "cell_type": "code",
   "execution_count": 87,
   "metadata": {},
   "outputs": [],
   "source": [
    "pd.DataFrame({'classes':label_train_['label_code'].unique()}).to_csv('../input/train_images/train_all/classes.csv', index=False)"
   ]
  },
  {
   "cell_type": "code",
   "execution_count": 88,
   "metadata": {},
   "outputs": [],
   "source": [
    "# label_train_.to_csv('input/label_train.csv', index=False)"
   ]
  },
  {
   "cell_type": "code",
   "execution_count": null,
   "metadata": {
    "scrolled": true
   },
   "outputs": [
    {
     "data": {
      "text/html": [
       "<div>\n",
       "<style scoped>\n",
       "    .dataframe tbody tr th:only-of-type {\n",
       "        vertical-align: middle;\n",
       "    }\n",
       "\n",
       "    .dataframe tbody tr th {\n",
       "        vertical-align: top;\n",
       "    }\n",
       "\n",
       "    .dataframe thead th {\n",
       "        text-align: right;\n",
       "    }\n",
       "</style>\n",
       "<table border=\"1\" class=\"dataframe\">\n",
       "  <thead>\n",
       "    <tr style=\"text-align: right;\">\n",
       "      <th></th>\n",
       "      <th>ImageID</th>\n",
       "      <th>Confidence</th>\n",
       "      <th>label_code</th>\n",
       "      <th>XMin</th>\n",
       "      <th>YMin</th>\n",
       "      <th>XMax</th>\n",
       "      <th>YMax</th>\n",
       "      <th>source</th>\n",
       "      <th>description</th>\n",
       "    </tr>\n",
       "  </thead>\n",
       "  <tbody>\n",
       "    <tr>\n",
       "      <th>0</th>\n",
       "      <td>000002b66c9c498e</td>\n",
       "      <td>1.0</td>\n",
       "      <td>/m/01kcnl</td>\n",
       "      <td>0.0</td>\n",
       "      <td>0.0</td>\n",
       "      <td>1.0</td>\n",
       "      <td>1.0</td>\n",
       "      <td>human</td>\n",
       "      <td>Birthday</td>\n",
       "    </tr>\n",
       "    <tr>\n",
       "      <th>1</th>\n",
       "      <td>000002b66c9c498e</td>\n",
       "      <td>1.0</td>\n",
       "      <td>/m/0b6w2z</td>\n",
       "      <td>0.0</td>\n",
       "      <td>0.0</td>\n",
       "      <td>1.0</td>\n",
       "      <td>1.0</td>\n",
       "      <td>human</td>\n",
       "      <td>Buttercream</td>\n",
       "    </tr>\n",
       "    <tr>\n",
       "      <th>2</th>\n",
       "      <td>000002b66c9c498e</td>\n",
       "      <td>1.0</td>\n",
       "      <td>/m/09q2t</td>\n",
       "      <td>0.0</td>\n",
       "      <td>0.0</td>\n",
       "      <td>1.0</td>\n",
       "      <td>1.0</td>\n",
       "      <td>human</td>\n",
       "      <td>Brown</td>\n",
       "    </tr>\n",
       "    <tr>\n",
       "      <th>3</th>\n",
       "      <td>000002b66c9c498e</td>\n",
       "      <td>1.0</td>\n",
       "      <td>/m/09j2d</td>\n",
       "      <td>0.0</td>\n",
       "      <td>0.0</td>\n",
       "      <td>1.0</td>\n",
       "      <td>1.0</td>\n",
       "      <td>human</td>\n",
       "      <td>Clothing</td>\n",
       "    </tr>\n",
       "    <tr>\n",
       "      <th>4</th>\n",
       "      <td>000002b66c9c498e</td>\n",
       "      <td>1.0</td>\n",
       "      <td>/m/09g5pq</td>\n",
       "      <td>0.0</td>\n",
       "      <td>0.0</td>\n",
       "      <td>1.0</td>\n",
       "      <td>1.0</td>\n",
       "      <td>human</td>\n",
       "      <td>People</td>\n",
       "    </tr>\n",
       "  </tbody>\n",
       "</table>\n",
       "</div>"
      ],
      "text/plain": [
       "            ImageID  Confidence label_code  XMin  YMin  XMax  YMax source  \\\n",
       "0  000002b66c9c498e         1.0  /m/01kcnl   0.0   0.0   1.0   1.0  human   \n",
       "1  000002b66c9c498e         1.0  /m/0b6w2z   0.0   0.0   1.0   1.0  human   \n",
       "2  000002b66c9c498e         1.0   /m/09q2t   0.0   0.0   1.0   1.0  human   \n",
       "3  000002b66c9c498e         1.0   /m/09j2d   0.0   0.0   1.0   1.0  human   \n",
       "4  000002b66c9c498e         1.0  /m/09g5pq   0.0   0.0   1.0   1.0  human   \n",
       "\n",
       "   description  \n",
       "0     Birthday  \n",
       "1  Buttercream  \n",
       "2        Brown  \n",
       "3     Clothing  \n",
       "4       People  "
      ]
     },
     "execution_count": 89,
     "metadata": {},
     "output_type": "execute_result"
    }
   ],
   "source": [
    "label_train_.head()"
   ]
  },
  {
   "cell_type": "code",
   "execution_count": null,
   "metadata": {},
   "outputs": [],
   "source": [
    "flag_bbox =  ~((label_train_['XMin']==0.) & (label_train_['YMin']==0.) & (label_train_['XMax']==1.) & (label_train_['YMax']==1.) )"
   ]
  },
  {
   "cell_type": "code",
   "execution_count": null,
   "metadata": {},
   "outputs": [],
   "source": [
    "label_train_1 = label_train_.loc[flag_bbox, ['ImageID', 'label_code', 'XMin', 'YMin', 'XMax', 'YMax']]"
   ]
  },
  {
   "cell_type": "code",
   "execution_count": null,
   "metadata": {},
   "outputs": [
    {
     "data": {
      "text/plain": [
       "(12135951, 6)"
      ]
     },
     "execution_count": 92,
     "metadata": {},
     "output_type": "execute_result"
    }
   ],
   "source": [
    "label_train_1.shape"
   ]
  },
  {
   "cell_type": "code",
   "execution_count": null,
   "metadata": {
    "scrolled": true
   },
   "outputs": [],
   "source": [
    "label_train_1.reset_index(drop=True, inplace=True)"
   ]
  },
  {
   "cell_type": "code",
   "execution_count": null,
   "metadata": {},
   "outputs": [],
   "source": [
    "label_train_1['w_bbox'] = 1024*(label_train_1['XMax']-label_train_1['XMin'])\n",
    "label_train_1['h_bbox'] = 768*(label_train_1['YMax']-label_train_1['YMin'])"
   ]
  },
  {
   "cell_type": "code",
   "execution_count": null,
   "metadata": {},
   "outputs": [
    {
     "data": {
      "text/plain": [
       "471742"
      ]
     },
     "execution_count": 95,
     "metadata": {},
     "output_type": "execute_result"
    }
   ],
   "source": [
    "((label_train_1['w_bbox']<20)&(label_train_1['h_bbox']<20)).sum()"
   ]
  },
  {
   "cell_type": "code",
   "execution_count": null,
   "metadata": {
    "scrolled": true
   },
   "outputs": [
    {
     "data": {
      "text/plain": [
       "291182"
      ]
     },
     "execution_count": 96,
     "metadata": {},
     "output_type": "execute_result"
    }
   ],
   "source": [
    "((label_train_1['w_bbox']<10)|(label_train_1['h_bbox']<10)).sum()"
   ]
  },
  {
   "cell_type": "code",
   "execution_count": null,
   "metadata": {},
   "outputs": [
    {
     "data": {
      "text/html": [
       "<div>\n",
       "<style scoped>\n",
       "    .dataframe tbody tr th:only-of-type {\n",
       "        vertical-align: middle;\n",
       "    }\n",
       "\n",
       "    .dataframe tbody tr th {\n",
       "        vertical-align: top;\n",
       "    }\n",
       "\n",
       "    .dataframe thead th {\n",
       "        text-align: right;\n",
       "    }\n",
       "</style>\n",
       "<table border=\"1\" class=\"dataframe\">\n",
       "  <thead>\n",
       "    <tr style=\"text-align: right;\">\n",
       "      <th></th>\n",
       "      <th>ImageID</th>\n",
       "      <th>label_code</th>\n",
       "      <th>XMin</th>\n",
       "      <th>YMin</th>\n",
       "      <th>XMax</th>\n",
       "      <th>YMax</th>\n",
       "      <th>w_bbox</th>\n",
       "      <th>h_bbox</th>\n",
       "    </tr>\n",
       "  </thead>\n",
       "  <tbody>\n",
       "    <tr>\n",
       "      <th>0</th>\n",
       "      <td>2c4fa270b5971e47</td>\n",
       "      <td>/m/09j2d</td>\n",
       "      <td>0.306667</td>\n",
       "      <td>0.805625</td>\n",
       "      <td>0.372500</td>\n",
       "      <td>0.889375</td>\n",
       "      <td>67.412992</td>\n",
       "      <td>64.320000</td>\n",
       "    </tr>\n",
       "    <tr>\n",
       "      <th>1</th>\n",
       "      <td>7d51db71b4fc5423</td>\n",
       "      <td>/m/0199g</td>\n",
       "      <td>0.426061</td>\n",
       "      <td>0.375000</td>\n",
       "      <td>0.610542</td>\n",
       "      <td>0.472656</td>\n",
       "      <td>188.908544</td>\n",
       "      <td>74.999808</td>\n",
       "    </tr>\n",
       "    <tr>\n",
       "      <th>2</th>\n",
       "      <td>ca5f3777141d2190</td>\n",
       "      <td>/m/0k65p</td>\n",
       "      <td>0.270000</td>\n",
       "      <td>0.528243</td>\n",
       "      <td>0.364375</td>\n",
       "      <td>0.776151</td>\n",
       "      <td>96.640000</td>\n",
       "      <td>190.393344</td>\n",
       "    </tr>\n",
       "    <tr>\n",
       "      <th>3</th>\n",
       "      <td>7827e908eba595fd</td>\n",
       "      <td>/m/09j2d</td>\n",
       "      <td>0.000000</td>\n",
       "      <td>0.228333</td>\n",
       "      <td>0.075625</td>\n",
       "      <td>0.780833</td>\n",
       "      <td>77.440000</td>\n",
       "      <td>424.320000</td>\n",
       "    </tr>\n",
       "    <tr>\n",
       "      <th>4</th>\n",
       "      <td>f80ca2781911da6c</td>\n",
       "      <td>/m/07j7r</td>\n",
       "      <td>0.246250</td>\n",
       "      <td>0.393333</td>\n",
       "      <td>0.591250</td>\n",
       "      <td>0.871667</td>\n",
       "      <td>353.280000</td>\n",
       "      <td>367.360512</td>\n",
       "    </tr>\n",
       "  </tbody>\n",
       "</table>\n",
       "</div>"
      ],
      "text/plain": [
       "            ImageID label_code      XMin      YMin      XMax      YMax  \\\n",
       "0  2c4fa270b5971e47   /m/09j2d  0.306667  0.805625  0.372500  0.889375   \n",
       "1  7d51db71b4fc5423   /m/0199g  0.426061  0.375000  0.610542  0.472656   \n",
       "2  ca5f3777141d2190   /m/0k65p  0.270000  0.528243  0.364375  0.776151   \n",
       "3  7827e908eba595fd   /m/09j2d  0.000000  0.228333  0.075625  0.780833   \n",
       "4  f80ca2781911da6c   /m/07j7r  0.246250  0.393333  0.591250  0.871667   \n",
       "\n",
       "       w_bbox      h_bbox  \n",
       "0   67.412992   64.320000  \n",
       "1  188.908544   74.999808  \n",
       "2   96.640000  190.393344  \n",
       "3   77.440000  424.320000  \n",
       "4  353.280000  367.360512  "
      ]
     },
     "execution_count": 97,
     "metadata": {},
     "output_type": "execute_result"
    }
   ],
   "source": [
    "label_train_1.head()"
   ]
  },
  {
   "cell_type": "code",
   "execution_count": null,
   "metadata": {},
   "outputs": [],
   "source": [
    "label_train_1.drop(index=label_train_1.index[ ((label_train_1['w_bbox']<20)&(label_train_1['h_bbox']<20)) |\n",
    "                                              ((label_train_1['w_bbox']<10)|(label_train_1['h_bbox']<10)) ], inplace=True)\n",
    "label_train_1.reset_index(inplace=True, drop=True)"
   ]
  },
  {
   "cell_type": "code",
   "execution_count": null,
   "metadata": {},
   "outputs": [
    {
     "data": {
      "text/plain": [
       "(11576529, 8)"
      ]
     },
     "execution_count": 99,
     "metadata": {},
     "output_type": "execute_result"
    }
   ],
   "source": [
    "label_train_1.shape"
   ]
  },
  {
   "cell_type": "code",
   "execution_count": null,
   "metadata": {},
   "outputs": [],
   "source": [
    "from sklearn.model_selection import StratifiedShuffleSplit as SSS"
   ]
  },
  {
   "cell_type": "code",
   "execution_count": null,
   "metadata": {},
   "outputs": [],
   "source": [
    "sss = SSS(n_splits=1, test_size=50000./label_train_1.shape[0], random_state=42)\n",
    "label_bbox_train_test_idx = sss.split(np.zeros(label_train_1.shape[0]), label_train_1['label_code'])\n",
    "label_bbox_train_idx, label_bbox_test_idx = next(label_bbox_train_test_idx)"
   ]
  },
  {
   "cell_type": "code",
   "execution_count": null,
   "metadata": {},
   "outputs": [
    {
     "data": {
      "text/plain": [
       "(50000,)"
      ]
     },
     "execution_count": 102,
     "metadata": {},
     "output_type": "execute_result"
    }
   ],
   "source": [
    "label_bbox_test_idx.shape"
   ]
  },
  {
   "cell_type": "code",
   "execution_count": null,
   "metadata": {},
   "outputs": [
    {
     "data": {
      "text/plain": [
       "553"
      ]
     },
     "execution_count": 103,
     "metadata": {},
     "output_type": "execute_result"
    }
   ],
   "source": [
    "label_train_1['label_code'].nunique()"
   ]
  },
  {
   "cell_type": "code",
   "execution_count": null,
   "metadata": {
    "scrolled": true
   },
   "outputs": [
    {
     "data": {
      "text/plain": [
       "544"
      ]
     },
     "execution_count": 104,
     "metadata": {},
     "output_type": "execute_result"
    }
   ],
   "source": [
    "label_train_1.loc[label_bbox_test_idx, 'label_code'].nunique()"
   ]
  },
  {
   "cell_type": "code",
   "execution_count": null,
   "metadata": {
    "scrolled": true
   },
   "outputs": [
    {
     "data": {
      "text/plain": [
       "553"
      ]
     },
     "execution_count": 105,
     "metadata": {},
     "output_type": "execute_result"
    }
   ],
   "source": [
    "label_train_1.loc[label_bbox_train_idx, 'label_code'].nunique()"
   ]
  },
  {
   "cell_type": "code",
   "execution_count": null,
   "metadata": {},
   "outputs": [
    {
     "data": {
      "text/plain": [
       "ImageID       875794bc2c8c4be6\n",
       "label_code            /m/09j2d\n",
       "XMin                    0.4975\n",
       "YMin                      0.47\n",
       "XMax                  0.554375\n",
       "YMax                  0.549167\n",
       "w_bbox                   58.24\n",
       "h_bbox                 60.8003\n",
       "Name: 7943065, dtype: object"
      ]
     },
     "execution_count": 106,
     "metadata": {},
     "output_type": "execute_result"
    }
   ],
   "source": [
    "label_train_1.loc[7943065,:]"
   ]
  },
  {
   "cell_type": "code",
   "execution_count": null,
   "metadata": {},
   "outputs": [],
   "source": [
    "label_bbox_train = label_train_1.loc[label_bbox_train_idx, :].reset_index(drop=True)\n",
    "label_bbox_test = label_train_1.loc[label_bbox_test_idx, :].reset_index(drop=True)"
   ]
  },
  {
   "cell_type": "code",
   "execution_count": null,
   "metadata": {
    "scrolled": true
   },
   "outputs": [
    {
     "data": {
      "text/html": [
       "<div>\n",
       "<style scoped>\n",
       "    .dataframe tbody tr th:only-of-type {\n",
       "        vertical-align: middle;\n",
       "    }\n",
       "\n",
       "    .dataframe tbody tr th {\n",
       "        vertical-align: top;\n",
       "    }\n",
       "\n",
       "    .dataframe thead th {\n",
       "        text-align: right;\n",
       "    }\n",
       "</style>\n",
       "<table border=\"1\" class=\"dataframe\">\n",
       "  <thead>\n",
       "    <tr style=\"text-align: right;\">\n",
       "      <th></th>\n",
       "      <th>ImageID</th>\n",
       "      <th>label_code</th>\n",
       "      <th>XMin</th>\n",
       "      <th>YMin</th>\n",
       "      <th>XMax</th>\n",
       "      <th>YMax</th>\n",
       "      <th>w_bbox</th>\n",
       "      <th>h_bbox</th>\n",
       "    </tr>\n",
       "  </thead>\n",
       "  <tbody>\n",
       "    <tr>\n",
       "      <th>0</th>\n",
       "      <td>2ef29be9adc3d294</td>\n",
       "      <td>/m/09j5n</td>\n",
       "      <td>0.081875</td>\n",
       "      <td>0.655722</td>\n",
       "      <td>0.115000</td>\n",
       "      <td>0.707317</td>\n",
       "      <td>33.920000</td>\n",
       "      <td>39.624960</td>\n",
       "    </tr>\n",
       "    <tr>\n",
       "      <th>1</th>\n",
       "      <td>d3e0a2a04b125bf6</td>\n",
       "      <td>/m/04rky</td>\n",
       "      <td>0.425000</td>\n",
       "      <td>0.245000</td>\n",
       "      <td>0.451875</td>\n",
       "      <td>0.369167</td>\n",
       "      <td>27.520000</td>\n",
       "      <td>95.360256</td>\n",
       "    </tr>\n",
       "    <tr>\n",
       "      <th>2</th>\n",
       "      <td>a6a339aa0061d196</td>\n",
       "      <td>/m/01g317</td>\n",
       "      <td>0.249375</td>\n",
       "      <td>0.198670</td>\n",
       "      <td>0.425625</td>\n",
       "      <td>0.999169</td>\n",
       "      <td>180.480000</td>\n",
       "      <td>614.783232</td>\n",
       "    </tr>\n",
       "    <tr>\n",
       "      <th>3</th>\n",
       "      <td>0e050b9c776da380</td>\n",
       "      <td>/m/05s2s</td>\n",
       "      <td>0.000000</td>\n",
       "      <td>0.551929</td>\n",
       "      <td>0.997778</td>\n",
       "      <td>0.997033</td>\n",
       "      <td>1021.724672</td>\n",
       "      <td>341.839872</td>\n",
       "    </tr>\n",
       "    <tr>\n",
       "      <th>4</th>\n",
       "      <td>77b7e04ae589939e</td>\n",
       "      <td>/m/09j2d</td>\n",
       "      <td>0.689375</td>\n",
       "      <td>0.377715</td>\n",
       "      <td>0.784375</td>\n",
       "      <td>0.514636</td>\n",
       "      <td>97.280000</td>\n",
       "      <td>105.155328</td>\n",
       "    </tr>\n",
       "  </tbody>\n",
       "</table>\n",
       "</div>"
      ],
      "text/plain": [
       "            ImageID label_code      XMin      YMin      XMax      YMax  \\\n",
       "0  2ef29be9adc3d294   /m/09j5n  0.081875  0.655722  0.115000  0.707317   \n",
       "1  d3e0a2a04b125bf6   /m/04rky  0.425000  0.245000  0.451875  0.369167   \n",
       "2  a6a339aa0061d196  /m/01g317  0.249375  0.198670  0.425625  0.999169   \n",
       "3  0e050b9c776da380   /m/05s2s  0.000000  0.551929  0.997778  0.997033   \n",
       "4  77b7e04ae589939e   /m/09j2d  0.689375  0.377715  0.784375  0.514636   \n",
       "\n",
       "        w_bbox      h_bbox  \n",
       "0    33.920000   39.624960  \n",
       "1    27.520000   95.360256  \n",
       "2   180.480000  614.783232  \n",
       "3  1021.724672  341.839872  \n",
       "4    97.280000  105.155328  "
      ]
     },
     "execution_count": 108,
     "metadata": {},
     "output_type": "execute_result"
    }
   ],
   "source": [
    "label_bbox_train.head()"
   ]
  },
  {
   "cell_type": "code",
   "execution_count": null,
   "metadata": {},
   "outputs": [],
   "source": [
    "label_bbox_train_cnt = label_bbox_train[['ImageID','label_code']].groupby('label_code').count()"
   ]
  },
  {
   "cell_type": "code",
   "execution_count": null,
   "metadata": {},
   "outputs": [],
   "source": [
    "label_bbox_train_cnt.sort_values(by='ImageID', ascending=False, inplace=True)"
   ]
  },
  {
   "cell_type": "code",
   "execution_count": null,
   "metadata": {
    "scrolled": true
   },
   "outputs": [
    {
     "data": {
      "text/html": [
       "<div>\n",
       "<style scoped>\n",
       "    .dataframe tbody tr th:only-of-type {\n",
       "        vertical-align: middle;\n",
       "    }\n",
       "\n",
       "    .dataframe tbody tr th {\n",
       "        vertical-align: top;\n",
       "    }\n",
       "\n",
       "    .dataframe thead th {\n",
       "        text-align: right;\n",
       "    }\n",
       "</style>\n",
       "<table border=\"1\" class=\"dataframe\">\n",
       "  <thead>\n",
       "    <tr style=\"text-align: right;\">\n",
       "      <th></th>\n",
       "      <th>ImageID</th>\n",
       "    </tr>\n",
       "    <tr>\n",
       "      <th>label_code</th>\n",
       "      <th></th>\n",
       "    </tr>\n",
       "  </thead>\n",
       "  <tbody>\n",
       "    <tr>\n",
       "      <th>/m/09j2d</th>\n",
       "      <td>1409033</td>\n",
       "    </tr>\n",
       "    <tr>\n",
       "      <th>/m/07j7r</th>\n",
       "      <td>1030940</td>\n",
       "    </tr>\n",
       "    <tr>\n",
       "      <th>/m/01g317</th>\n",
       "      <td>1005692</td>\n",
       "    </tr>\n",
       "    <tr>\n",
       "      <th>/m/0dzct</th>\n",
       "      <td>987291</td>\n",
       "    </tr>\n",
       "    <tr>\n",
       "      <th>/m/09j5n</th>\n",
       "      <td>623902</td>\n",
       "    </tr>\n",
       "  </tbody>\n",
       "</table>\n",
       "</div>"
      ],
      "text/plain": [
       "            ImageID\n",
       "label_code         \n",
       "/m/09j2d    1409033\n",
       "/m/07j7r    1030940\n",
       "/m/01g317   1005692\n",
       "/m/0dzct     987291\n",
       "/m/09j5n     623902"
      ]
     },
     "execution_count": 111,
     "metadata": {},
     "output_type": "execute_result"
    }
   ],
   "source": [
    "label_bbox_train_cnt.head()"
   ]
  },
  {
   "cell_type": "code",
   "execution_count": null,
   "metadata": {
    "scrolled": false
   },
   "outputs": [
    {
     "data": {
      "text/plain": [
       "<matplotlib.axes._subplots.AxesSubplot at 0x7feb3107a2e8>"
      ]
     },
     "execution_count": 112,
     "metadata": {},
     "output_type": "execute_result"
    },
    {
     "data": {
      "image/png": "[encoded data removed]",
      "text/plain": [
       "<Figure size 432x288 with 1 Axes>"
      ]
     },
     "metadata": {
      "needs_background": "light"
     },
     "output_type": "display_data"
    }
   ],
   "source": [
    "label_bbox_train_cnt.plot()"
   ]
  },
  {
   "cell_type": "code",
   "execution_count": null,
   "metadata": {},
   "outputs": [
    {
     "data": {
      "text/plain": [
       "ImageID    1409033\n",
       "dtype: int64"
      ]
     },
     "execution_count": 113,
     "metadata": {},
     "output_type": "execute_result"
    }
   ],
   "source": [
    "label_bbox_train_cnt.max()"
   ]
  },
  {
   "cell_type": "code",
   "execution_count": null,
   "metadata": {
    "scrolled": true
   },
   "outputs": [
    {
     "data": {
      "text/plain": [
       "ImageID    35\n",
       "dtype: int64"
      ]
     },
     "execution_count": 114,
     "metadata": {},
     "output_type": "execute_result"
    }
   ],
   "source": [
    "label_bbox_train_cnt.min()"
   ]
  },
  {
   "cell_type": "code",
   "execution_count": null,
   "metadata": {},
   "outputs": [
    {
     "data": {
      "text/plain": [
       "ImageID    1417\n",
       "Name: /m/01nq26, dtype: int64"
      ]
     },
     "execution_count": 115,
     "metadata": {},
     "output_type": "execute_result"
    }
   ],
   "source": [
    "label_bbox_train_cnt.iloc[287]"
   ]
  },
  {
   "cell_type": "code",
   "execution_count": null,
   "metadata": {},
   "outputs": [],
   "source": [
    "label_bbox_train_cnt['ratio_max'] = label_bbox_train_cnt['ImageID'].max() / label_bbox_train_cnt['ImageID']"
   ]
  },
  {
   "cell_type": "code",
   "execution_count": null,
   "metadata": {
    "scrolled": true
   },
   "outputs": [
    {
     "data": {
      "text/plain": [
       "[<matplotlib.lines.Line2D at 0x7feb2e9a6908>]"
      ]
     },
     "execution_count": 117,
     "metadata": {},
     "output_type": "execute_result"
    },
    {
     "data": {
      "image/png": "[encoded data removed]",
      "text/plain": [
       "<Figure size 432x288 with 1 Axes>"
      ]
     },
     "metadata": {
      "needs_background": "light"
     },
     "output_type": "display_data"
    }
   ],
   "source": [
    "plt.plot(list(map(lambda x: [x], np.arange(label_bbox_train_cnt.shape[0]))), label_bbox_train_cnt['ratio_max'])"
   ]
  },
  {
   "cell_type": "code",
   "execution_count": null,
   "metadata": {},
   "outputs": [],
   "source": [
    "def curvature(x):\n",
    "    d1 = np.diff(x)\n",
    "    d2 = np.diff(d1)\n",
    "    return abs(d2)*(1 + d1[:-1]**2)**-1.5"
   ]
  },
  {
   "cell_type": "code",
   "execution_count": null,
   "metadata": {},
   "outputs": [],
   "source": [
    "c = curvature(label_bbox_train_cnt['ImageID'])"
   ]
  },
  {
   "cell_type": "code",
   "execution_count": null,
   "metadata": {},
   "outputs": [
    {
     "data": {
      "text/plain": [
       "117"
      ]
     },
     "execution_count": 120,
     "metadata": {},
     "output_type": "execute_result"
    }
   ],
   "source": [
    "c.argmax()"
   ]
  },
  {
   "cell_type": "code",
   "execution_count": null,
   "metadata": {
    "scrolled": true
   },
   "outputs": [
    {
     "data": {
      "text/plain": [
       "ImageID      16175.000000\n",
       "ratio_max       87.111777\n",
       "Name: /m/0zvk5, dtype: float64"
      ]
     },
     "execution_count": 121,
     "metadata": {},
     "output_type": "execute_result"
    }
   ],
   "source": [
    "label_bbox_train_cnt.iloc[73]"
   ]
  },
  {
   "cell_type": "code",
   "execution_count": null,
   "metadata": {},
   "outputs": [],
   "source": [
    "from sklearn.linear_model import LinearRegression as LR"
   ]
  },
  {
   "cell_type": "code",
   "execution_count": null,
   "metadata": {},
   "outputs": [],
   "source": [
    "X = list(map(lambda x: [x], np.arange(label_bbox_train_cnt.shape[0])))\n",
    "reg = LR().fit(X, label_bbox_train_cnt['ratio_max'])\n",
    "y = reg.predict(X)"
   ]
  },
  {
   "cell_type": "code",
   "execution_count": null,
   "metadata": {
    "scrolled": false
   },
   "outputs": [
    {
     "data": {
      "text/plain": [
       "[<matplotlib.lines.Line2D at 0x7feb2e957240>]"
      ]
     },
     "execution_count": 124,
     "metadata": {},
     "output_type": "execute_result"
    },
    {
     "data": {
      "image/png": "[encoded data removed]",
      "text/plain": [
       "<Figure size 432x288 with 1 Axes>"
      ]
     },
     "metadata": {
      "needs_background": "light"
     },
     "output_type": "display_data"
    }
   ],
   "source": [
    "label_bbox_train_cnt['ratio_max'].plot()\n",
    "plt.plot(X, y)"
   ]
  },
  {
   "cell_type": "code",
   "execution_count": null,
   "metadata": {},
   "outputs": [
    {
     "data": {
      "text/plain": [
       "6"
      ]
     },
     "execution_count": 125,
     "metadata": {},
     "output_type": "execute_result"
    }
   ],
   "source": [
    "(label_bbox_train_cnt['ImageID']<100).sum()"
   ]
  },
  {
   "cell_type": "code",
   "execution_count": null,
   "metadata": {},
   "outputs": [
    {
     "data": {
      "text/plain": [
       "18"
      ]
     },
     "execution_count": 126,
     "metadata": {},
     "output_type": "execute_result"
    }
   ],
   "source": [
    "(label_bbox_train_cnt['ratio_max']>10000).sum()"
   ]
  },
  {
   "cell_type": "code",
   "execution_count": null,
   "metadata": {},
   "outputs": [
    {
     "data": {
      "text/html": [
       "<div>\n",
       "<style scoped>\n",
       "    .dataframe tbody tr th:only-of-type {\n",
       "        vertical-align: middle;\n",
       "    }\n",
       "\n",
       "    .dataframe tbody tr th {\n",
       "        vertical-align: top;\n",
       "    }\n",
       "\n",
       "    .dataframe thead th {\n",
       "        text-align: right;\n",
       "    }\n",
       "</style>\n",
       "<table border=\"1\" class=\"dataframe\">\n",
       "  <thead>\n",
       "    <tr style=\"text-align: right;\">\n",
       "      <th></th>\n",
       "      <th>ImageID</th>\n",
       "      <th>ratio_max</th>\n",
       "    </tr>\n",
       "    <tr>\n",
       "      <th>label_code</th>\n",
       "      <th></th>\n",
       "      <th></th>\n",
       "    </tr>\n",
       "  </thead>\n",
       "  <tbody>\n",
       "    <tr>\n",
       "      <th>/m/065h6l</th>\n",
       "      <td>103</td>\n",
       "      <td>13679.932039</td>\n",
       "    </tr>\n",
       "    <tr>\n",
       "      <th>/m/03jbxj</th>\n",
       "      <td>97</td>\n",
       "      <td>14526.113402</td>\n",
       "    </tr>\n",
       "    <tr>\n",
       "      <th>/m/02ctlc</th>\n",
       "      <td>94</td>\n",
       "      <td>14989.712766</td>\n",
       "    </tr>\n",
       "    <tr>\n",
       "      <th>/m/0ky7b</th>\n",
       "      <td>92</td>\n",
       "      <td>15315.576087</td>\n",
       "    </tr>\n",
       "    <tr>\n",
       "      <th>/m/074d1</th>\n",
       "      <td>81</td>\n",
       "      <td>17395.469136</td>\n",
       "    </tr>\n",
       "    <tr>\n",
       "      <th>/m/07v9_z</th>\n",
       "      <td>74</td>\n",
       "      <td>19040.986486</td>\n",
       "    </tr>\n",
       "    <tr>\n",
       "      <th>/m/03qhv5</th>\n",
       "      <td>35</td>\n",
       "      <td>40258.085714</td>\n",
       "    </tr>\n",
       "  </tbody>\n",
       "</table>\n",
       "</div>"
      ],
      "text/plain": [
       "            ImageID     ratio_max\n",
       "label_code                       \n",
       "/m/065h6l       103  13679.932039\n",
       "/m/03jbxj        97  14526.113402\n",
       "/m/02ctlc        94  14989.712766\n",
       "/m/0ky7b         92  15315.576087\n",
       "/m/074d1         81  17395.469136\n",
       "/m/07v9_z        74  19040.986486\n",
       "/m/03qhv5        35  40258.085714"
      ]
     },
     "execution_count": 127,
     "metadata": {},
     "output_type": "execute_result"
    }
   ],
   "source": [
    "label_bbox_train_cnt.iloc[-7:,:]"
   ]
  },
  {
   "cell_type": "code",
   "execution_count": null,
   "metadata": {},
   "outputs": [
    {
     "data": {
      "text/html": [
       "<div>\n",
       "<style scoped>\n",
       "    .dataframe tbody tr th:only-of-type {\n",
       "        vertical-align: middle;\n",
       "    }\n",
       "\n",
       "    .dataframe tbody tr th {\n",
       "        vertical-align: top;\n",
       "    }\n",
       "\n",
       "    .dataframe thead th {\n",
       "        text-align: right;\n",
       "    }\n",
       "</style>\n",
       "<table border=\"1\" class=\"dataframe\">\n",
       "  <thead>\n",
       "    <tr style=\"text-align: right;\">\n",
       "      <th></th>\n",
       "      <th>ImageID</th>\n",
       "      <th>ratio_max</th>\n",
       "    </tr>\n",
       "    <tr>\n",
       "      <th>label_code</th>\n",
       "      <th></th>\n",
       "      <th></th>\n",
       "    </tr>\n",
       "  </thead>\n",
       "  <tbody>\n",
       "    <tr>\n",
       "      <th>/m/09j2d</th>\n",
       "      <td>1409033</td>\n",
       "      <td>1.000000</td>\n",
       "    </tr>\n",
       "    <tr>\n",
       "      <th>/m/07j7r</th>\n",
       "      <td>1030940</td>\n",
       "      <td>1.366746</td>\n",
       "    </tr>\n",
       "    <tr>\n",
       "      <th>/m/01g317</th>\n",
       "      <td>1005692</td>\n",
       "      <td>1.401058</td>\n",
       "    </tr>\n",
       "    <tr>\n",
       "      <th>/m/0dzct</th>\n",
       "      <td>987291</td>\n",
       "      <td>1.427171</td>\n",
       "    </tr>\n",
       "    <tr>\n",
       "      <th>/m/09j5n</th>\n",
       "      <td>623902</td>\n",
       "      <td>2.258420</td>\n",
       "    </tr>\n",
       "  </tbody>\n",
       "</table>\n",
       "</div>"
      ],
      "text/plain": [
       "            ImageID  ratio_max\n",
       "label_code                    \n",
       "/m/09j2d    1409033   1.000000\n",
       "/m/07j7r    1030940   1.366746\n",
       "/m/01g317   1005692   1.401058\n",
       "/m/0dzct     987291   1.427171\n",
       "/m/09j5n     623902   2.258420"
      ]
     },
     "execution_count": 128,
     "metadata": {},
     "output_type": "execute_result"
    }
   ],
   "source": [
    "label_bbox_train_cnt.head()"
   ]
  },
  {
   "cell_type": "code",
   "execution_count": null,
   "metadata": {},
   "outputs": [],
   "source": [
    "num_sample_min = 600\n",
    "num_sample_max = 6000\n",
    "label_bbox_train_cnt['weight_class'] = -(num_sample_max-num_sample_min)/label_bbox_train_cnt.shape[0] * np.arange(label_bbox_train_cnt.shape[0]) + num_sample_max\n",
    "label_bbox_train_cnt['weight_class'] = label_bbox_train_cnt['weight_class'].map(lambda x: int(x))\n",
    "\n",
    "# weight to feed to loss\n",
    "num_sample_min = 100\n",
    "num_sample_max = 1\n",
    "label_bbox_train_cnt['weight_class_'] = -(num_sample_max-num_sample_min)/label_bbox_train_cnt.shape[0] * np.arange(label_bbox_train_cnt.shape[0]) + num_sample_max\n",
    "\n",
    "# label_bbox_train_cnt['weight_class'] = label_bbox_train_cnt['ImageID']\n",
    "# label_bbox_train_cnt.loc[label_bbox_train_cnt['ImageID']<=1000, 'weight_class'] = 1000\n",
    "# label_bbox_train_cnt.loc[label_bbox_train_cnt['ImageID']>=10000, 'weight_class'] = 10000"
   ]
  },
  {
   "cell_type": "code",
   "execution_count": null,
   "metadata": {},
   "outputs": [
    {
     "data": {
      "text/html": [
       "<div>\n",
       "<style scoped>\n",
       "    .dataframe tbody tr th:only-of-type {\n",
       "        vertical-align: middle;\n",
       "    }\n",
       "\n",
       "    .dataframe tbody tr th {\n",
       "        vertical-align: top;\n",
       "    }\n",
       "\n",
       "    .dataframe thead th {\n",
       "        text-align: right;\n",
       "    }\n",
       "</style>\n",
       "<table border=\"1\" class=\"dataframe\">\n",
       "  <thead>\n",
       "    <tr style=\"text-align: right;\">\n",
       "      <th></th>\n",
       "      <th>ImageID</th>\n",
       "      <th>ratio_max</th>\n",
       "      <th>weight_class</th>\n",
       "      <th>weight_class_</th>\n",
       "    </tr>\n",
       "    <tr>\n",
       "      <th>label_code</th>\n",
       "      <th></th>\n",
       "      <th></th>\n",
       "      <th></th>\n",
       "      <th></th>\n",
       "    </tr>\n",
       "  </thead>\n",
       "  <tbody>\n",
       "    <tr>\n",
       "      <th>/m/09j2d</th>\n",
       "      <td>1409033</td>\n",
       "      <td>1.000000</td>\n",
       "      <td>6000</td>\n",
       "      <td>1.000000</td>\n",
       "    </tr>\n",
       "    <tr>\n",
       "      <th>/m/07j7r</th>\n",
       "      <td>1030940</td>\n",
       "      <td>1.366746</td>\n",
       "      <td>5990</td>\n",
       "      <td>1.179024</td>\n",
       "    </tr>\n",
       "    <tr>\n",
       "      <th>/m/01g317</th>\n",
       "      <td>1005692</td>\n",
       "      <td>1.401058</td>\n",
       "      <td>5980</td>\n",
       "      <td>1.358047</td>\n",
       "    </tr>\n",
       "    <tr>\n",
       "      <th>/m/0dzct</th>\n",
       "      <td>987291</td>\n",
       "      <td>1.427171</td>\n",
       "      <td>5970</td>\n",
       "      <td>1.537071</td>\n",
       "    </tr>\n",
       "    <tr>\n",
       "      <th>/m/09j5n</th>\n",
       "      <td>623902</td>\n",
       "      <td>2.258420</td>\n",
       "      <td>5960</td>\n",
       "      <td>1.716094</td>\n",
       "    </tr>\n",
       "  </tbody>\n",
       "</table>\n",
       "</div>"
      ],
      "text/plain": [
       "            ImageID  ratio_max  weight_class  weight_class_\n",
       "label_code                                                 \n",
       "/m/09j2d    1409033   1.000000          6000       1.000000\n",
       "/m/07j7r    1030940   1.366746          5990       1.179024\n",
       "/m/01g317   1005692   1.401058          5980       1.358047\n",
       "/m/0dzct     987291   1.427171          5970       1.537071\n",
       "/m/09j5n     623902   2.258420          5960       1.716094"
      ]
     },
     "execution_count": 130,
     "metadata": {},
     "output_type": "execute_result"
    }
   ],
   "source": [
    "label_bbox_train_cnt.head()"
   ]
  },
  {
   "cell_type": "code",
   "execution_count": null,
   "metadata": {
    "scrolled": true
   },
   "outputs": [
    {
     "data": {
      "text/plain": [
       "1827324"
      ]
     },
     "execution_count": 131,
     "metadata": {},
     "output_type": "execute_result"
    }
   ],
   "source": [
    "label_bbox_train_cnt['weight_class'].sum()"
   ]
  },
  {
   "cell_type": "code",
   "execution_count": null,
   "metadata": {},
   "outputs": [],
   "source": [
    "label_bbox_train_cnt.reset_index(inplace=True, drop=False)"
   ]
  },
  {
   "cell_type": "code",
   "execution_count": null,
   "metadata": {},
   "outputs": [
    {
     "data": {
      "text/plain": [
       "(553, 5)"
      ]
     },
     "execution_count": 133,
     "metadata": {},
     "output_type": "execute_result"
    }
   ],
   "source": [
    "label_bbox_train_cnt.shape"
   ]
  },
  {
   "cell_type": "code",
   "execution_count": null,
   "metadata": {},
   "outputs": [
    {
     "data": {
      "text/plain": [
       "550     /m/074d1\n",
       "551    /m/07v9_z\n",
       "552    /m/03qhv5\n",
       "Name: label_code, dtype: object"
      ]
     },
     "execution_count": 134,
     "metadata": {},
     "output_type": "execute_result"
    }
   ],
   "source": [
    "label_bbox_train_cnt.iloc[-3:,0]"
   ]
  },
  {
   "cell_type": "code",
   "execution_count": null,
   "metadata": {},
   "outputs": [
    {
     "data": {
      "text/html": [
       "<div>\n",
       "<style scoped>\n",
       "    .dataframe tbody tr th:only-of-type {\n",
       "        vertical-align: middle;\n",
       "    }\n",
       "\n",
       "    .dataframe tbody tr th {\n",
       "        vertical-align: top;\n",
       "    }\n",
       "\n",
       "    .dataframe thead th {\n",
       "        text-align: right;\n",
       "    }\n",
       "</style>\n",
       "<table border=\"1\" class=\"dataframe\">\n",
       "  <thead>\n",
       "    <tr style=\"text-align: right;\">\n",
       "      <th></th>\n",
       "      <th>label_code</th>\n",
       "      <th>ImageID</th>\n",
       "      <th>ratio_max</th>\n",
       "      <th>weight_class</th>\n",
       "      <th>weight_class_</th>\n",
       "    </tr>\n",
       "  </thead>\n",
       "  <tbody>\n",
       "    <tr>\n",
       "      <th>550</th>\n",
       "      <td>/m/074d1</td>\n",
       "      <td>81</td>\n",
       "      <td>17395.469136</td>\n",
       "      <td>629</td>\n",
       "      <td>99.462929</td>\n",
       "    </tr>\n",
       "    <tr>\n",
       "      <th>551</th>\n",
       "      <td>/m/07v9_z</td>\n",
       "      <td>74</td>\n",
       "      <td>19040.986486</td>\n",
       "      <td>619</td>\n",
       "      <td>99.641953</td>\n",
       "    </tr>\n",
       "    <tr>\n",
       "      <th>552</th>\n",
       "      <td>/m/03qhv5</td>\n",
       "      <td>35</td>\n",
       "      <td>40258.085714</td>\n",
       "      <td>609</td>\n",
       "      <td>99.820976</td>\n",
       "    </tr>\n",
       "  </tbody>\n",
       "</table>\n",
       "</div>"
      ],
      "text/plain": [
       "    label_code  ImageID     ratio_max  weight_class  weight_class_\n",
       "550   /m/074d1       81  17395.469136           629      99.462929\n",
       "551  /m/07v9_z       74  19040.986486           619      99.641953\n",
       "552  /m/03qhv5       35  40258.085714           609      99.820976"
      ]
     },
     "execution_count": 135,
     "metadata": {},
     "output_type": "execute_result"
    }
   ],
   "source": [
    "label_bbox_train_cnt.iloc[-3:,:]"
   ]
  },
  {
   "cell_type": "code",
   "execution_count": null,
   "metadata": {},
   "outputs": [],
   "source": [
    "# label_bbox_train.drop(columns='weight_class', inplace=True)"
   ]
  },
  {
   "cell_type": "code",
   "execution_count": null,
   "metadata": {},
   "outputs": [
    {
     "data": {
      "text/html": [
       "<div>\n",
       "<style scoped>\n",
       "    .dataframe tbody tr th:only-of-type {\n",
       "        vertical-align: middle;\n",
       "    }\n",
       "\n",
       "    .dataframe tbody tr th {\n",
       "        vertical-align: top;\n",
       "    }\n",
       "\n",
       "    .dataframe thead th {\n",
       "        text-align: right;\n",
       "    }\n",
       "</style>\n",
       "<table border=\"1\" class=\"dataframe\">\n",
       "  <thead>\n",
       "    <tr style=\"text-align: right;\">\n",
       "      <th></th>\n",
       "      <th>ImageID</th>\n",
       "      <th>label_code</th>\n",
       "      <th>XMin</th>\n",
       "      <th>YMin</th>\n",
       "      <th>XMax</th>\n",
       "      <th>YMax</th>\n",
       "      <th>w_bbox</th>\n",
       "      <th>h_bbox</th>\n",
       "    </tr>\n",
       "  </thead>\n",
       "  <tbody>\n",
       "    <tr>\n",
       "      <th>0</th>\n",
       "      <td>2ef29be9adc3d294</td>\n",
       "      <td>/m/09j5n</td>\n",
       "      <td>0.081875</td>\n",
       "      <td>0.655722</td>\n",
       "      <td>0.115000</td>\n",
       "      <td>0.707317</td>\n",
       "      <td>33.920000</td>\n",
       "      <td>39.624960</td>\n",
       "    </tr>\n",
       "    <tr>\n",
       "      <th>1</th>\n",
       "      <td>d3e0a2a04b125bf6</td>\n",
       "      <td>/m/04rky</td>\n",
       "      <td>0.425000</td>\n",
       "      <td>0.245000</td>\n",
       "      <td>0.451875</td>\n",
       "      <td>0.369167</td>\n",
       "      <td>27.520000</td>\n",
       "      <td>95.360256</td>\n",
       "    </tr>\n",
       "    <tr>\n",
       "      <th>2</th>\n",
       "      <td>a6a339aa0061d196</td>\n",
       "      <td>/m/01g317</td>\n",
       "      <td>0.249375</td>\n",
       "      <td>0.198670</td>\n",
       "      <td>0.425625</td>\n",
       "      <td>0.999169</td>\n",
       "      <td>180.480000</td>\n",
       "      <td>614.783232</td>\n",
       "    </tr>\n",
       "    <tr>\n",
       "      <th>3</th>\n",
       "      <td>0e050b9c776da380</td>\n",
       "      <td>/m/05s2s</td>\n",
       "      <td>0.000000</td>\n",
       "      <td>0.551929</td>\n",
       "      <td>0.997778</td>\n",
       "      <td>0.997033</td>\n",
       "      <td>1021.724672</td>\n",
       "      <td>341.839872</td>\n",
       "    </tr>\n",
       "    <tr>\n",
       "      <th>4</th>\n",
       "      <td>77b7e04ae589939e</td>\n",
       "      <td>/m/09j2d</td>\n",
       "      <td>0.689375</td>\n",
       "      <td>0.377715</td>\n",
       "      <td>0.784375</td>\n",
       "      <td>0.514636</td>\n",
       "      <td>97.280000</td>\n",
       "      <td>105.155328</td>\n",
       "    </tr>\n",
       "  </tbody>\n",
       "</table>\n",
       "</div>"
      ],
      "text/plain": [
       "            ImageID label_code      XMin      YMin      XMax      YMax  \\\n",
       "0  2ef29be9adc3d294   /m/09j5n  0.081875  0.655722  0.115000  0.707317   \n",
       "1  d3e0a2a04b125bf6   /m/04rky  0.425000  0.245000  0.451875  0.369167   \n",
       "2  a6a339aa0061d196  /m/01g317  0.249375  0.198670  0.425625  0.999169   \n",
       "3  0e050b9c776da380   /m/05s2s  0.000000  0.551929  0.997778  0.997033   \n",
       "4  77b7e04ae589939e   /m/09j2d  0.689375  0.377715  0.784375  0.514636   \n",
       "\n",
       "        w_bbox      h_bbox  \n",
       "0    33.920000   39.624960  \n",
       "1    27.520000   95.360256  \n",
       "2   180.480000  614.783232  \n",
       "3  1021.724672  341.839872  \n",
       "4    97.280000  105.155328  "
      ]
     },
     "execution_count": 137,
     "metadata": {},
     "output_type": "execute_result"
    }
   ],
   "source": [
    "label_bbox_train.head()"
   ]
  },
  {
   "cell_type": "code",
   "execution_count": null,
   "metadata": {},
   "outputs": [],
   "source": [
    "label_bbox_train = pd.merge(left=label_bbox_train[['ImageID', 'label_code', 'XMin', 'YMin', 'XMax', 'YMax']], \n",
    "                            right=label_bbox_train_cnt[['label_code', 'weight_class']], \n",
    "                            on='label_code', how='left')"
   ]
  },
  {
   "cell_type": "code",
   "execution_count": null,
   "metadata": {},
   "outputs": [
    {
     "data": {
      "text/plain": [
       "(11526529, 7)"
      ]
     },
     "execution_count": 139,
     "metadata": {},
     "output_type": "execute_result"
    }
   ],
   "source": [
    "label_bbox_train.shape"
   ]
  },
  {
   "cell_type": "code",
   "execution_count": null,
   "metadata": {
    "scrolled": false
   },
   "outputs": [
    {
     "data": {
      "text/html": [
       "<div>\n",
       "<style scoped>\n",
       "    .dataframe tbody tr th:only-of-type {\n",
       "        vertical-align: middle;\n",
       "    }\n",
       "\n",
       "    .dataframe tbody tr th {\n",
       "        vertical-align: top;\n",
       "    }\n",
       "\n",
       "    .dataframe thead th {\n",
       "        text-align: right;\n",
       "    }\n",
       "</style>\n",
       "<table border=\"1\" class=\"dataframe\">\n",
       "  <thead>\n",
       "    <tr style=\"text-align: right;\">\n",
       "      <th></th>\n",
       "      <th>ImageID</th>\n",
       "      <th>label_code</th>\n",
       "      <th>XMin</th>\n",
       "      <th>YMin</th>\n",
       "      <th>XMax</th>\n",
       "      <th>YMax</th>\n",
       "      <th>weight_class</th>\n",
       "    </tr>\n",
       "  </thead>\n",
       "  <tbody>\n",
       "    <tr>\n",
       "      <th>0</th>\n",
       "      <td>2ef29be9adc3d294</td>\n",
       "      <td>/m/09j5n</td>\n",
       "      <td>0.081875</td>\n",
       "      <td>0.655722</td>\n",
       "      <td>0.115000</td>\n",
       "      <td>0.707317</td>\n",
       "      <td>5960</td>\n",
       "    </tr>\n",
       "    <tr>\n",
       "      <th>1</th>\n",
       "      <td>d3e0a2a04b125bf6</td>\n",
       "      <td>/m/04rky</td>\n",
       "      <td>0.425000</td>\n",
       "      <td>0.245000</td>\n",
       "      <td>0.451875</td>\n",
       "      <td>0.369167</td>\n",
       "      <td>5853</td>\n",
       "    </tr>\n",
       "    <tr>\n",
       "      <th>2</th>\n",
       "      <td>a6a339aa0061d196</td>\n",
       "      <td>/m/01g317</td>\n",
       "      <td>0.249375</td>\n",
       "      <td>0.198670</td>\n",
       "      <td>0.425625</td>\n",
       "      <td>0.999169</td>\n",
       "      <td>5980</td>\n",
       "    </tr>\n",
       "    <tr>\n",
       "      <th>3</th>\n",
       "      <td>0e050b9c776da380</td>\n",
       "      <td>/m/05s2s</td>\n",
       "      <td>0.000000</td>\n",
       "      <td>0.551929</td>\n",
       "      <td>0.997778</td>\n",
       "      <td>0.997033</td>\n",
       "      <td>5921</td>\n",
       "    </tr>\n",
       "    <tr>\n",
       "      <th>4</th>\n",
       "      <td>77b7e04ae589939e</td>\n",
       "      <td>/m/09j2d</td>\n",
       "      <td>0.689375</td>\n",
       "      <td>0.377715</td>\n",
       "      <td>0.784375</td>\n",
       "      <td>0.514636</td>\n",
       "      <td>6000</td>\n",
       "    </tr>\n",
       "  </tbody>\n",
       "</table>\n",
       "</div>"
      ],
      "text/plain": [
       "            ImageID label_code      XMin      YMin      XMax      YMax  \\\n",
       "0  2ef29be9adc3d294   /m/09j5n  0.081875  0.655722  0.115000  0.707317   \n",
       "1  d3e0a2a04b125bf6   /m/04rky  0.425000  0.245000  0.451875  0.369167   \n",
       "2  a6a339aa0061d196  /m/01g317  0.249375  0.198670  0.425625  0.999169   \n",
       "3  0e050b9c776da380   /m/05s2s  0.000000  0.551929  0.997778  0.997033   \n",
       "4  77b7e04ae589939e   /m/09j2d  0.689375  0.377715  0.784375  0.514636   \n",
       "\n",
       "   weight_class  \n",
       "0          5960  \n",
       "1          5853  \n",
       "2          5980  \n",
       "3          5921  \n",
       "4          6000  "
      ]
     },
     "execution_count": 140,
     "metadata": {},
     "output_type": "execute_result"
    }
   ],
   "source": [
    "label_bbox_train.head()"
   ]
  },
  {
   "cell_type": "code",
   "execution_count": null,
   "metadata": {},
   "outputs": [],
   "source": [
    "# label_bbox_train.to_csv('input/label_bbox_train.csv', index=False)"
   ]
  },
  {
   "cell_type": "code",
   "execution_count": null,
   "metadata": {
    "scrolled": true
   },
   "outputs": [
    {
     "data": {
      "text/html": [
       "<div>\n",
       "<style scoped>\n",
       "    .dataframe tbody tr th:only-of-type {\n",
       "        vertical-align: middle;\n",
       "    }\n",
       "\n",
       "    .dataframe tbody tr th {\n",
       "        vertical-align: top;\n",
       "    }\n",
       "\n",
       "    .dataframe thead th {\n",
       "        text-align: right;\n",
       "    }\n",
       "</style>\n",
       "<table border=\"1\" class=\"dataframe\">\n",
       "  <thead>\n",
       "    <tr style=\"text-align: right;\">\n",
       "      <th></th>\n",
       "      <th>label_code</th>\n",
       "      <th>description</th>\n",
       "    </tr>\n",
       "  </thead>\n",
       "  <tbody>\n",
       "    <tr>\n",
       "      <th>0</th>\n",
       "      <td>/m/0108_09c</td>\n",
       "      <td>Summer snowflake</td>\n",
       "    </tr>\n",
       "    <tr>\n",
       "      <th>1</th>\n",
       "      <td>/m/010dmf</td>\n",
       "      <td>Isle of man tt</td>\n",
       "    </tr>\n",
       "    <tr>\n",
       "      <th>2</th>\n",
       "      <td>/m/010jjr</td>\n",
       "      <td>Amusement park</td>\n",
       "    </tr>\n",
       "    <tr>\n",
       "      <th>3</th>\n",
       "      <td>/m/010l12</td>\n",
       "      <td>Roller coaster</td>\n",
       "    </tr>\n",
       "    <tr>\n",
       "      <th>4</th>\n",
       "      <td>/m/010lq47b</td>\n",
       "      <td>Witch hat</td>\n",
       "    </tr>\n",
       "  </tbody>\n",
       "</table>\n",
       "</div>"
      ],
      "text/plain": [
       "    label_code       description\n",
       "0  /m/0108_09c  Summer snowflake\n",
       "1    /m/010dmf    Isle of man tt\n",
       "2    /m/010jjr    Amusement park\n",
       "3    /m/010l12    Roller coaster\n",
       "4  /m/010lq47b         Witch hat"
      ]
     },
     "execution_count": 142,
     "metadata": {},
     "output_type": "execute_result"
    }
   ],
   "source": [
    "class_desc_train.head()"
   ]
  },
  {
   "cell_type": "code",
   "execution_count": null,
   "metadata": {},
   "outputs": [],
   "source": [
    "label_bbox_desc = label_bbox_train[['label_code','ImageID']].drop_duplicates(subset='label_code')\n",
    "label_bbox_desc = label_bbox_desc.merge(right=class_desc_train, on='label_code', how='left').drop(columns='ImageID')"
   ]
  },
  {
   "cell_type": "code",
   "execution_count": null,
   "metadata": {},
   "outputs": [],
   "source": [
    "label_bbox_desc = label_bbox_desc.merge(right=label_bbox_train_cnt[['label_code', 'weight_class_']], on='label_code', how='left')"
   ]
  },
  {
   "cell_type": "code",
   "execution_count": null,
   "metadata": {},
   "outputs": [
    {
     "data": {
      "text/html": [
       "<div>\n",
       "<style scoped>\n",
       "    .dataframe tbody tr th:only-of-type {\n",
       "        vertical-align: middle;\n",
       "    }\n",
       "\n",
       "    .dataframe tbody tr th {\n",
       "        vertical-align: top;\n",
       "    }\n",
       "\n",
       "    .dataframe thead th {\n",
       "        text-align: right;\n",
       "    }\n",
       "</style>\n",
       "<table border=\"1\" class=\"dataframe\">\n",
       "  <thead>\n",
       "    <tr style=\"text-align: right;\">\n",
       "      <th></th>\n",
       "      <th>label_code</th>\n",
       "      <th>description</th>\n",
       "      <th>weight_class_</th>\n",
       "    </tr>\n",
       "  </thead>\n",
       "  <tbody>\n",
       "    <tr>\n",
       "      <th>0</th>\n",
       "      <td>/m/09j5n</td>\n",
       "      <td>Footwear</td>\n",
       "      <td>1.716094</td>\n",
       "    </tr>\n",
       "    <tr>\n",
       "      <th>1</th>\n",
       "      <td>/m/04rky</td>\n",
       "      <td>Mammal</td>\n",
       "      <td>3.685353</td>\n",
       "    </tr>\n",
       "    <tr>\n",
       "      <th>2</th>\n",
       "      <td>/m/01g317</td>\n",
       "      <td>Person</td>\n",
       "      <td>1.358047</td>\n",
       "    </tr>\n",
       "    <tr>\n",
       "      <th>3</th>\n",
       "      <td>/m/05s2s</td>\n",
       "      <td>Plant</td>\n",
       "      <td>2.432188</td>\n",
       "    </tr>\n",
       "    <tr>\n",
       "      <th>4</th>\n",
       "      <td>/m/09j2d</td>\n",
       "      <td>Clothing</td>\n",
       "      <td>1.000000</td>\n",
       "    </tr>\n",
       "  </tbody>\n",
       "</table>\n",
       "</div>"
      ],
      "text/plain": [
       "  label_code description  weight_class_\n",
       "0   /m/09j5n    Footwear       1.716094\n",
       "1   /m/04rky      Mammal       3.685353\n",
       "2  /m/01g317      Person       1.358047\n",
       "3   /m/05s2s       Plant       2.432188\n",
       "4   /m/09j2d    Clothing       1.000000"
      ]
     },
     "execution_count": 145,
     "metadata": {},
     "output_type": "execute_result"
    }
   ],
   "source": [
    "label_bbox_desc.head()"
   ]
  },
  {
   "cell_type": "code",
   "execution_count": null,
   "metadata": {},
   "outputs": [
    {
     "data": {
      "text/plain": [
       "(553, 3)"
      ]
     },
     "execution_count": 146,
     "metadata": {},
     "output_type": "execute_result"
    }
   ],
   "source": [
    "label_bbox_desc.shape"
   ]
  },
  {
   "cell_type": "code",
   "execution_count": null,
   "metadata": {},
   "outputs": [],
   "source": [
    "# label_bbox_desc.to_csv('input/label_bbox_desc.csv', index=False)"
   ]
  },
  {
   "cell_type": "code",
   "execution_count": null,
   "metadata": {},
   "outputs": [],
   "source": [
    "label_bbox_test['weight_class'] = 0"
   ]
  },
  {
   "cell_type": "code",
   "execution_count": null,
   "metadata": {},
   "outputs": [
    {
     "data": {
      "text/html": [
       "<div>\n",
       "<style scoped>\n",
       "    .dataframe tbody tr th:only-of-type {\n",
       "        vertical-align: middle;\n",
       "    }\n",
       "\n",
       "    .dataframe tbody tr th {\n",
       "        vertical-align: top;\n",
       "    }\n",
       "\n",
       "    .dataframe thead th {\n",
       "        text-align: right;\n",
       "    }\n",
       "</style>\n",
       "<table border=\"1\" class=\"dataframe\">\n",
       "  <thead>\n",
       "    <tr style=\"text-align: right;\">\n",
       "      <th></th>\n",
       "      <th>ImageID</th>\n",
       "      <th>label_code</th>\n",
       "      <th>XMin</th>\n",
       "      <th>YMin</th>\n",
       "      <th>XMax</th>\n",
       "      <th>YMax</th>\n",
       "      <th>w_bbox</th>\n",
       "      <th>h_bbox</th>\n",
       "      <th>weight_class</th>\n",
       "    </tr>\n",
       "  </thead>\n",
       "  <tbody>\n",
       "    <tr>\n",
       "      <th>0</th>\n",
       "      <td>2695ac46fb0a0f9f</td>\n",
       "      <td>/m/04brg2</td>\n",
       "      <td>0.508750</td>\n",
       "      <td>0.640833</td>\n",
       "      <td>0.734375</td>\n",
       "      <td>0.744167</td>\n",
       "      <td>231.040000</td>\n",
       "      <td>79.360512</td>\n",
       "      <td>0</td>\n",
       "    </tr>\n",
       "    <tr>\n",
       "      <th>1</th>\n",
       "      <td>36e3331f700a77b8</td>\n",
       "      <td>/m/08pbxl</td>\n",
       "      <td>0.003750</td>\n",
       "      <td>0.272983</td>\n",
       "      <td>0.647500</td>\n",
       "      <td>0.986867</td>\n",
       "      <td>659.200000</td>\n",
       "      <td>548.262912</td>\n",
       "      <td>0</td>\n",
       "    </tr>\n",
       "    <tr>\n",
       "      <th>2</th>\n",
       "      <td>8383969c462eb13c</td>\n",
       "      <td>/m/0d4v4</td>\n",
       "      <td>0.640625</td>\n",
       "      <td>0.480234</td>\n",
       "      <td>0.650391</td>\n",
       "      <td>0.546120</td>\n",
       "      <td>10.000384</td>\n",
       "      <td>50.600448</td>\n",
       "      <td>0</td>\n",
       "    </tr>\n",
       "    <tr>\n",
       "      <th>3</th>\n",
       "      <td>0fb1e7478e12ab68</td>\n",
       "      <td>/m/0dzct</td>\n",
       "      <td>0.473750</td>\n",
       "      <td>0.137899</td>\n",
       "      <td>0.577500</td>\n",
       "      <td>0.313321</td>\n",
       "      <td>106.240000</td>\n",
       "      <td>134.724096</td>\n",
       "      <td>0</td>\n",
       "    </tr>\n",
       "    <tr>\n",
       "      <th>4</th>\n",
       "      <td>319e1ab5517abbfb</td>\n",
       "      <td>/m/09j5n</td>\n",
       "      <td>0.416016</td>\n",
       "      <td>0.869565</td>\n",
       "      <td>0.465820</td>\n",
       "      <td>0.898551</td>\n",
       "      <td>50.999296</td>\n",
       "      <td>22.261248</td>\n",
       "      <td>0</td>\n",
       "    </tr>\n",
       "  </tbody>\n",
       "</table>\n",
       "</div>"
      ],
      "text/plain": [
       "            ImageID label_code      XMin      YMin      XMax      YMax  \\\n",
       "0  2695ac46fb0a0f9f  /m/04brg2  0.508750  0.640833  0.734375  0.744167   \n",
       "1  36e3331f700a77b8  /m/08pbxl  0.003750  0.272983  0.647500  0.986867   \n",
       "2  8383969c462eb13c   /m/0d4v4  0.640625  0.480234  0.650391  0.546120   \n",
       "3  0fb1e7478e12ab68   /m/0dzct  0.473750  0.137899  0.577500  0.313321   \n",
       "4  319e1ab5517abbfb   /m/09j5n  0.416016  0.869565  0.465820  0.898551   \n",
       "\n",
       "       w_bbox      h_bbox  weight_class  \n",
       "0  231.040000   79.360512             0  \n",
       "1  659.200000  548.262912             0  \n",
       "2   10.000384   50.600448             0  \n",
       "3  106.240000  134.724096             0  \n",
       "4   50.999296   22.261248             0  "
      ]
     },
     "execution_count": 149,
     "metadata": {},
     "output_type": "execute_result"
    }
   ],
   "source": [
    "label_bbox_test.head()"
   ]
  },
  {
   "cell_type": "code",
   "execution_count": null,
   "metadata": {},
   "outputs": [],
   "source": [
    "# label_bbox_test[['ImageID', 'label_code', 'XMin', 'YMin', 'XMax', 'YMax', 'weight_class']].to_csv('input/label_bbox_valid.csv', index=False)"
   ]
  },
  {
   "cell_type": "code",
   "execution_count": null,
   "metadata": {},
   "outputs": [],
   "source": [
    "# label_bbox_test.sample(frac=0.1).to_csv('input/label_bbox_valid_01.csv', index=False)"
   ]
  },
  {
   "cell_type": "code",
   "execution_count": null,
   "metadata": {},
   "outputs": [
    {
     "data": {
      "text/html": [
       "<div>\n",
       "<style scoped>\n",
       "    .dataframe tbody tr th:only-of-type {\n",
       "        vertical-align: middle;\n",
       "    }\n",
       "\n",
       "    .dataframe tbody tr th {\n",
       "        vertical-align: top;\n",
       "    }\n",
       "\n",
       "    .dataframe thead th {\n",
       "        text-align: right;\n",
       "    }\n",
       "</style>\n",
       "<table border=\"1\" class=\"dataframe\">\n",
       "  <thead>\n",
       "    <tr style=\"text-align: right;\">\n",
       "      <th></th>\n",
       "      <th>ImageID</th>\n",
       "      <th>Confidence</th>\n",
       "      <th>label_code</th>\n",
       "      <th>XMin</th>\n",
       "      <th>YMin</th>\n",
       "      <th>XMax</th>\n",
       "      <th>YMax</th>\n",
       "      <th>source</th>\n",
       "      <th>description</th>\n",
       "    </tr>\n",
       "  </thead>\n",
       "  <tbody>\n",
       "    <tr>\n",
       "      <th>0</th>\n",
       "      <td>000002b66c9c498e</td>\n",
       "      <td>1.0</td>\n",
       "      <td>/m/01kcnl</td>\n",
       "      <td>0.0</td>\n",
       "      <td>0.0</td>\n",
       "      <td>1.0</td>\n",
       "      <td>1.0</td>\n",
       "      <td>human</td>\n",
       "      <td>Birthday</td>\n",
       "    </tr>\n",
       "    <tr>\n",
       "      <th>1</th>\n",
       "      <td>000002b66c9c498e</td>\n",
       "      <td>1.0</td>\n",
       "      <td>/m/0b6w2z</td>\n",
       "      <td>0.0</td>\n",
       "      <td>0.0</td>\n",
       "      <td>1.0</td>\n",
       "      <td>1.0</td>\n",
       "      <td>human</td>\n",
       "      <td>Buttercream</td>\n",
       "    </tr>\n",
       "    <tr>\n",
       "      <th>2</th>\n",
       "      <td>000002b66c9c498e</td>\n",
       "      <td>1.0</td>\n",
       "      <td>/m/09q2t</td>\n",
       "      <td>0.0</td>\n",
       "      <td>0.0</td>\n",
       "      <td>1.0</td>\n",
       "      <td>1.0</td>\n",
       "      <td>human</td>\n",
       "      <td>Brown</td>\n",
       "    </tr>\n",
       "    <tr>\n",
       "      <th>3</th>\n",
       "      <td>000002b66c9c498e</td>\n",
       "      <td>1.0</td>\n",
       "      <td>/m/09j2d</td>\n",
       "      <td>0.0</td>\n",
       "      <td>0.0</td>\n",
       "      <td>1.0</td>\n",
       "      <td>1.0</td>\n",
       "      <td>human</td>\n",
       "      <td>Clothing</td>\n",
       "    </tr>\n",
       "    <tr>\n",
       "      <th>4</th>\n",
       "      <td>000002b66c9c498e</td>\n",
       "      <td>1.0</td>\n",
       "      <td>/m/09g5pq</td>\n",
       "      <td>0.0</td>\n",
       "      <td>0.0</td>\n",
       "      <td>1.0</td>\n",
       "      <td>1.0</td>\n",
       "      <td>human</td>\n",
       "      <td>People</td>\n",
       "    </tr>\n",
       "  </tbody>\n",
       "</table>\n",
       "</div>"
      ],
      "text/plain": [
       "            ImageID  Confidence label_code  XMin  YMin  XMax  YMax source  \\\n",
       "0  000002b66c9c498e         1.0  /m/01kcnl   0.0   0.0   1.0   1.0  human   \n",
       "1  000002b66c9c498e         1.0  /m/0b6w2z   0.0   0.0   1.0   1.0  human   \n",
       "2  000002b66c9c498e         1.0   /m/09q2t   0.0   0.0   1.0   1.0  human   \n",
       "3  000002b66c9c498e         1.0   /m/09j2d   0.0   0.0   1.0   1.0  human   \n",
       "4  000002b66c9c498e         1.0  /m/09g5pq   0.0   0.0   1.0   1.0  human   \n",
       "\n",
       "   description  \n",
       "0     Birthday  \n",
       "1  Buttercream  \n",
       "2        Brown  \n",
       "3     Clothing  \n",
       "4       People  "
      ]
     },
     "execution_count": 152,
     "metadata": {},
     "output_type": "execute_result"
    }
   ],
   "source": [
    "label_train_.head()"
   ]
  },
  {
   "cell_type": "code",
   "execution_count": null,
   "metadata": {},
   "outputs": [],
   "source": [
    "label_train_0_ = label_train_.loc[~flag_bbox, :]"
   ]
  },
  {
   "cell_type": "code",
   "execution_count": null,
   "metadata": {},
   "outputs": [
    {
     "data": {
      "text/plain": [
       "(18535506, 9)"
      ]
     },
     "execution_count": 154,
     "metadata": {},
     "output_type": "execute_result"
    }
   ],
   "source": [
    "label_train_0_.shape"
   ]
  },
  {
   "cell_type": "code",
   "execution_count": null,
   "metadata": {},
   "outputs": [],
   "source": [
    "label_train_0_cnt = label_train_0_[['ImageID', 'label_code']].groupby('label_code').count().sort_values(by='ImageID', ascending=False)"
   ]
  },
  {
   "cell_type": "code",
   "execution_count": null,
   "metadata": {},
   "outputs": [
    {
     "data": {
      "text/html": [
       "<div>\n",
       "<style scoped>\n",
       "    .dataframe tbody tr th:only-of-type {\n",
       "        vertical-align: middle;\n",
       "    }\n",
       "\n",
       "    .dataframe tbody tr th {\n",
       "        vertical-align: top;\n",
       "    }\n",
       "\n",
       "    .dataframe thead th {\n",
       "        text-align: right;\n",
       "    }\n",
       "</style>\n",
       "<table border=\"1\" class=\"dataframe\">\n",
       "  <thead>\n",
       "    <tr style=\"text-align: right;\">\n",
       "      <th></th>\n",
       "      <th>ImageID</th>\n",
       "    </tr>\n",
       "    <tr>\n",
       "      <th>label_code</th>\n",
       "      <th></th>\n",
       "    </tr>\n",
       "  </thead>\n",
       "  <tbody>\n",
       "    <tr>\n",
       "      <th>/m/01g317</th>\n",
       "      <td>813340</td>\n",
       "    </tr>\n",
       "    <tr>\n",
       "      <th>/m/09j2d</th>\n",
       "      <td>617387</td>\n",
       "    </tr>\n",
       "    <tr>\n",
       "      <th>/m/0dzct</th>\n",
       "      <td>334534</td>\n",
       "    </tr>\n",
       "    <tr>\n",
       "      <th>/m/07j7r</th>\n",
       "      <td>332999</td>\n",
       "    </tr>\n",
       "    <tr>\n",
       "      <th>/m/05s2s</th>\n",
       "      <td>308986</td>\n",
       "    </tr>\n",
       "  </tbody>\n",
       "</table>\n",
       "</div>"
      ],
      "text/plain": [
       "            ImageID\n",
       "label_code         \n",
       "/m/01g317    813340\n",
       "/m/09j2d     617387\n",
       "/m/0dzct     334534\n",
       "/m/07j7r     332999\n",
       "/m/05s2s     308986"
      ]
     },
     "execution_count": 156,
     "metadata": {},
     "output_type": "execute_result"
    }
   ],
   "source": [
    "label_train_0_cnt.head()"
   ]
  },
  {
   "cell_type": "code",
   "execution_count": null,
   "metadata": {},
   "outputs": [
    {
     "data": {
      "text/plain": [
       "ImageID    99\n",
       "Name: /m/01_3kg, dtype: int64"
      ]
     },
     "execution_count": 157,
     "metadata": {},
     "output_type": "execute_result"
    }
   ],
   "source": [
    "label_train_0_cnt.iloc[-2809,:]"
   ]
  },
  {
   "cell_type": "code",
   "execution_count": null,
   "metadata": {},
   "outputs": [
    {
     "data": {
      "text/plain": [
       "2809"
      ]
     },
     "execution_count": 158,
     "metadata": {},
     "output_type": "execute_result"
    }
   ],
   "source": [
    "(label_train_0_cnt['ImageID']<100).sum()"
   ]
  },
  {
   "cell_type": "code",
   "execution_count": null,
   "metadata": {},
   "outputs": [
    {
     "data": {
      "text/plain": [
       "<matplotlib.axes._subplots.AxesSubplot at 0x7feb2c062cc0>"
      ]
     },
     "execution_count": 159,
     "metadata": {},
     "output_type": "execute_result"
    },
    {
     "data": {
      "image/png": "[encoded data removed]",
      "text/plain": [
       "<Figure size 432x288 with 1 Axes>"
      ]
     },
     "metadata": {
      "needs_background": "light"
     },
     "output_type": "display_data"
    }
   ],
   "source": [
    "label_train_0_cnt['ImageID'].plot()"
   ]
  },
  {
   "cell_type": "code",
   "execution_count": null,
   "metadata": {},
   "outputs": [],
   "source": [
    "num_sample_min = 30\n",
    "num_sample_max = 4000\n",
    "label_train_0_cnt['weight_class'] = -(num_sample_max-num_sample_min)/label_train_0_cnt.shape[0] * np.arange(label_train_0_cnt.shape[0]) + num_sample_max\n",
    "label_train_0_cnt['weight_class'] = label_train_0_cnt['weight_class']#.map(lambda x: int(x))\n",
    "\n",
    "# weight to feed to loss\n",
    "num_sample_min = 100\n",
    "num_sample_max = 1\n",
    "label_train_0_cnt['weight_class_'] = -(num_sample_max-num_sample_min)/label_train_0_cnt.shape[0] * np.arange(label_train_0_cnt.shape[0]) + num_sample_max\n"
   ]
  },
  {
   "cell_type": "code",
   "execution_count": null,
   "metadata": {
    "scrolled": true
   },
   "outputs": [
    {
     "data": {
      "text/plain": [
       "14455580.0"
      ]
     },
     "execution_count": 161,
     "metadata": {},
     "output_type": "execute_result"
    }
   ],
   "source": [
    "label_train_0_cnt['weight_class'].sum()"
   ]
  },
  {
   "cell_type": "code",
   "execution_count": null,
   "metadata": {},
   "outputs": [],
   "source": [
    "label_train_0_cnt.reset_index(inplace=True, drop=False)"
   ]
  },
  {
   "cell_type": "code",
   "execution_count": null,
   "metadata": {},
   "outputs": [
    {
     "data": {
      "text/plain": [
       "(7173, 4)"
      ]
     },
     "execution_count": 163,
     "metadata": {},
     "output_type": "execute_result"
    }
   ],
   "source": [
    "label_train_0_cnt.shape"
   ]
  },
  {
   "cell_type": "code",
   "execution_count": null,
   "metadata": {
    "scrolled": true
   },
   "outputs": [
    {
     "data": {
      "text/html": [
       "<div>\n",
       "<style scoped>\n",
       "    .dataframe tbody tr th:only-of-type {\n",
       "        vertical-align: middle;\n",
       "    }\n",
       "\n",
       "    .dataframe tbody tr th {\n",
       "        vertical-align: top;\n",
       "    }\n",
       "\n",
       "    .dataframe thead th {\n",
       "        text-align: right;\n",
       "    }\n",
       "</style>\n",
       "<table border=\"1\" class=\"dataframe\">\n",
       "  <thead>\n",
       "    <tr style=\"text-align: right;\">\n",
       "      <th></th>\n",
       "      <th>label_code</th>\n",
       "      <th>ImageID</th>\n",
       "      <th>weight_class</th>\n",
       "      <th>weight_class_</th>\n",
       "    </tr>\n",
       "  </thead>\n",
       "  <tbody>\n",
       "    <tr>\n",
       "      <th>0</th>\n",
       "      <td>/m/01g317</td>\n",
       "      <td>813340</td>\n",
       "      <td>4000.000000</td>\n",
       "      <td>1.000000</td>\n",
       "    </tr>\n",
       "    <tr>\n",
       "      <th>1</th>\n",
       "      <td>/m/09j2d</td>\n",
       "      <td>617387</td>\n",
       "      <td>3999.446536</td>\n",
       "      <td>1.013802</td>\n",
       "    </tr>\n",
       "    <tr>\n",
       "      <th>2</th>\n",
       "      <td>/m/0dzct</td>\n",
       "      <td>334534</td>\n",
       "      <td>3998.893071</td>\n",
       "      <td>1.027604</td>\n",
       "    </tr>\n",
       "    <tr>\n",
       "      <th>3</th>\n",
       "      <td>/m/07j7r</td>\n",
       "      <td>332999</td>\n",
       "      <td>3998.339607</td>\n",
       "      <td>1.041405</td>\n",
       "    </tr>\n",
       "    <tr>\n",
       "      <th>4</th>\n",
       "      <td>/m/05s2s</td>\n",
       "      <td>308986</td>\n",
       "      <td>3997.786142</td>\n",
       "      <td>1.055207</td>\n",
       "    </tr>\n",
       "    <tr>\n",
       "      <th>5</th>\n",
       "      <td>/m/07yv9</td>\n",
       "      <td>262845</td>\n",
       "      <td>3997.232678</td>\n",
       "      <td>1.069009</td>\n",
       "    </tr>\n",
       "    <tr>\n",
       "      <th>6</th>\n",
       "      <td>/m/0cgh4</td>\n",
       "      <td>200383</td>\n",
       "      <td>3996.679214</td>\n",
       "      <td>1.082811</td>\n",
       "    </tr>\n",
       "    <tr>\n",
       "      <th>7</th>\n",
       "      <td>/m/01prls</td>\n",
       "      <td>169157</td>\n",
       "      <td>3996.125749</td>\n",
       "      <td>1.096612</td>\n",
       "    </tr>\n",
       "    <tr>\n",
       "      <th>8</th>\n",
       "      <td>/m/0c9ph5</td>\n",
       "      <td>156023</td>\n",
       "      <td>3995.572285</td>\n",
       "      <td>1.110414</td>\n",
       "    </tr>\n",
       "    <tr>\n",
       "      <th>9</th>\n",
       "      <td>/m/0jbk</td>\n",
       "      <td>147780</td>\n",
       "      <td>3995.018821</td>\n",
       "      <td>1.124216</td>\n",
       "    </tr>\n",
       "  </tbody>\n",
       "</table>\n",
       "</div>"
      ],
      "text/plain": [
       "  label_code  ImageID  weight_class  weight_class_\n",
       "0  /m/01g317   813340   4000.000000       1.000000\n",
       "1   /m/09j2d   617387   3999.446536       1.013802\n",
       "2   /m/0dzct   334534   3998.893071       1.027604\n",
       "3   /m/07j7r   332999   3998.339607       1.041405\n",
       "4   /m/05s2s   308986   3997.786142       1.055207\n",
       "5   /m/07yv9   262845   3997.232678       1.069009\n",
       "6   /m/0cgh4   200383   3996.679214       1.082811\n",
       "7  /m/01prls   169157   3996.125749       1.096612\n",
       "8  /m/0c9ph5   156023   3995.572285       1.110414\n",
       "9    /m/0jbk   147780   3995.018821       1.124216"
      ]
     },
     "execution_count": 164,
     "metadata": {},
     "output_type": "execute_result"
    }
   ],
   "source": [
    "label_train_0_cnt.head(10)"
   ]
  },
  {
   "cell_type": "code",
   "execution_count": null,
   "metadata": {},
   "outputs": [
    {
     "data": {
      "text/plain": [
       "18535506"
      ]
     },
     "execution_count": 165,
     "metadata": {},
     "output_type": "execute_result"
    }
   ],
   "source": [
    "label_train_0_cnt['ImageID'].sum()"
   ]
  },
  {
   "cell_type": "code",
   "execution_count": null,
   "metadata": {},
   "outputs": [
    {
     "data": {
      "text/plain": [
       "5755"
      ]
     },
     "execution_count": 166,
     "metadata": {},
     "output_type": "execute_result"
    }
   ],
   "source": [
    "(label_train_0_cnt['ImageID']<1000).sum()"
   ]
  },
  {
   "cell_type": "code",
   "execution_count": null,
   "metadata": {},
   "outputs": [],
   "source": [
    "label_train_0_ = pd.merge(left=label_train_0_[['ImageID', 'label_code',]], \n",
    "                            right=label_train_0_cnt[['label_code', 'weight_class']], \n",
    "                            on='label_code', how='left')"
   ]
  },
  {
   "cell_type": "code",
   "execution_count": null,
   "metadata": {},
   "outputs": [
    {
     "data": {
      "text/html": [
       "<div>\n",
       "<style scoped>\n",
       "    .dataframe tbody tr th:only-of-type {\n",
       "        vertical-align: middle;\n",
       "    }\n",
       "\n",
       "    .dataframe tbody tr th {\n",
       "        vertical-align: top;\n",
       "    }\n",
       "\n",
       "    .dataframe thead th {\n",
       "        text-align: right;\n",
       "    }\n",
       "</style>\n",
       "<table border=\"1\" class=\"dataframe\">\n",
       "  <thead>\n",
       "    <tr style=\"text-align: right;\">\n",
       "      <th></th>\n",
       "      <th>ImageID</th>\n",
       "      <th>label_code</th>\n",
       "      <th>weight_class</th>\n",
       "    </tr>\n",
       "  </thead>\n",
       "  <tbody>\n",
       "    <tr>\n",
       "      <th>0</th>\n",
       "      <td>000002b66c9c498e</td>\n",
       "      <td>/m/01kcnl</td>\n",
       "      <td>3253.930015</td>\n",
       "    </tr>\n",
       "    <tr>\n",
       "      <th>1</th>\n",
       "      <td>000002b66c9c498e</td>\n",
       "      <td>/m/0b6w2z</td>\n",
       "      <td>3578.260142</td>\n",
       "    </tr>\n",
       "    <tr>\n",
       "      <th>2</th>\n",
       "      <td>000002b66c9c498e</td>\n",
       "      <td>/m/09q2t</td>\n",
       "      <td>3781.381570</td>\n",
       "    </tr>\n",
       "    <tr>\n",
       "      <th>3</th>\n",
       "      <td>000002b66c9c498e</td>\n",
       "      <td>/m/09j2d</td>\n",
       "      <td>3999.446536</td>\n",
       "    </tr>\n",
       "    <tr>\n",
       "      <th>4</th>\n",
       "      <td>000002b66c9c498e</td>\n",
       "      <td>/m/09g5pq</td>\n",
       "      <td>3992.251499</td>\n",
       "    </tr>\n",
       "  </tbody>\n",
       "</table>\n",
       "</div>"
      ],
      "text/plain": [
       "            ImageID label_code  weight_class\n",
       "0  000002b66c9c498e  /m/01kcnl   3253.930015\n",
       "1  000002b66c9c498e  /m/0b6w2z   3578.260142\n",
       "2  000002b66c9c498e   /m/09q2t   3781.381570\n",
       "3  000002b66c9c498e   /m/09j2d   3999.446536\n",
       "4  000002b66c9c498e  /m/09g5pq   3992.251499"
      ]
     },
     "execution_count": 168,
     "metadata": {},
     "output_type": "execute_result"
    }
   ],
   "source": [
    "label_train_0_.head()"
   ]
  },
  {
   "cell_type": "code",
   "execution_count": null,
   "metadata": {},
   "outputs": [
    {
     "data": {
      "text/plain": [
       "2618311.456852084"
      ]
     },
     "execution_count": 169,
     "metadata": {},
     "output_type": "execute_result"
    }
   ],
   "source": [
    "label_train_0_[['ImageID', 'weight_class']].groupby('ImageID').max()['weight_class'].unique().sum()"
   ]
  },
  {
   "cell_type": "code",
   "execution_count": null,
   "metadata": {},
   "outputs": [
    {
     "data": {
      "text/plain": [
       "(1742996, 1)"
      ]
     },
     "execution_count": 170,
     "metadata": {},
     "output_type": "execute_result"
    }
   ],
   "source": [
    "label_train_0_[['ImageID', 'weight_class']].groupby('ImageID').max().shape"
   ]
  },
  {
   "cell_type": "code",
   "execution_count": null,
   "metadata": {},
   "outputs": [
    {
     "data": {
      "text/plain": [
       "739"
      ]
     },
     "execution_count": 171,
     "metadata": {},
     "output_type": "execute_result"
    }
   ],
   "source": [
    "label_train_0_[['ImageID', 'weight_class']].groupby('ImageID').max()['weight_class'].nunique()"
   ]
  },
  {
   "cell_type": "code",
   "execution_count": null,
   "metadata": {},
   "outputs": [],
   "source": [
    "label_train_0 = label_train_0_.groupby('ImageID').agg({'label_code': lambda x: [i for i in x]})\n",
    "label_train_0['weight_class'] = label_train_0_.groupby('ImageID').agg({'weight_class': lambda x: np.max(x)})"
   ]
  },
  {
   "cell_type": "code",
   "execution_count": null,
   "metadata": {
    "scrolled": false
   },
   "outputs": [],
   "source": [
    "label_train_0.head()"
   ]
  },
  {
   "cell_type": "code",
   "execution_count": null,
   "metadata": {},
   "outputs": [],
   "source": [
    "label_train_0['weight_class'].min(), label_train_0['weight_class'].sum()"
   ]
  },
  {
   "cell_type": "code",
   "execution_count": null,
   "metadata": {},
   "outputs": [],
   "source": [
    "label_train_0['label_code'] = label_train_0['label_code'].map(lambda x: ','.join(x))\n",
    "label_train_0.reset_index(inplace=True, drop=False)"
   ]
  },
  {
   "cell_type": "code",
   "execution_count": null,
   "metadata": {},
   "outputs": [],
   "source": [
    "label_train_0.head()"
   ]
  },
  {
   "cell_type": "code",
   "execution_count": null,
   "metadata": {
    "scrolled": true
   },
   "outputs": [],
   "source": [
    "label_train_0.shape"
   ]
  },
  {
   "cell_type": "code",
   "execution_count": null,
   "metadata": {},
   "outputs": [],
   "source": [
    "label_train_0_val = label_train_0.sample(n=50000, random_state=42)"
   ]
  },
  {
   "cell_type": "code",
   "execution_count": null,
   "metadata": {},
   "outputs": [],
   "source": [
    "label_train_0_val.head()"
   ]
  },
  {
   "cell_type": "code",
   "execution_count": null,
   "metadata": {},
   "outputs": [],
   "source": [
    "label_train_0_trn = label_train_0.loc[label_train_0.index.difference(label_train_0_val.index), :]"
   ]
  },
  {
   "cell_type": "code",
   "execution_count": null,
   "metadata": {},
   "outputs": [],
   "source": [
    "label_train_0_trn.shape"
   ]
  },
  {
   "cell_type": "code",
   "execution_count": null,
   "metadata": {},
   "outputs": [],
   "source": [
    "label_train_0_trn.head()"
   ]
  },
  {
   "cell_type": "code",
   "execution_count": null,
   "metadata": {},
   "outputs": [],
   "source": [
    "label_train_0_trn['weight_class'].unique().sum()"
   ]
  },
  {
   "cell_type": "code",
   "execution_count": null,
   "metadata": {},
   "outputs": [],
   "source": [
    "label_train_0_trn.reset_index(inplace=True, drop=True)\n",
    "label_train_0_val.reset_index(inplace=True, drop=True)"
   ]
  },
  {
   "cell_type": "code",
   "execution_count": null,
   "metadata": {},
   "outputs": [],
   "source": [
    "# label_train_0_trn['weight_class'] = label_train_0_trn['weight_class'].map(lambda x: int(x))\n",
    "# label_train_0_val['weight_class'] = label_train_0_val['weight_class'].map(lambda x: int(x))"
   ]
  },
  {
   "cell_type": "code",
   "execution_count": null,
   "metadata": {},
   "outputs": [],
   "source": [
    "label_train_0_trn.head()"
   ]
  },
  {
   "cell_type": "code",
   "execution_count": null,
   "metadata": {},
   "outputs": [],
   "source": [
    "# label_train_0_trn[['ImageID', 'label_code', 'weight_class']].to_csv('input/label_hmn_mch_train.csv', index=False)\n",
    "# label_train_0_val[['ImageID', 'label_code', 'weight_class']].to_csv('input/label_hmn_mch_valid.csv', index=False)"
   ]
  },
  {
   "cell_type": "code",
   "execution_count": null,
   "metadata": {
    "scrolled": true
   },
   "outputs": [],
   "source": [
    "class_desc_train.head()"
   ]
  },
  {
   "cell_type": "code",
   "execution_count": null,
   "metadata": {},
   "outputs": [],
   "source": [
    "label_train_0_cnt.shape"
   ]
  },
  {
   "cell_type": "code",
   "execution_count": null,
   "metadata": {},
   "outputs": [],
   "source": [
    "label_desc_0 = class_desc_train.merge(right=label_train_0_cnt[['label_code', 'weight_class_']], on='label_code', how='right')"
   ]
  },
  {
   "cell_type": "code",
   "execution_count": null,
   "metadata": {},
   "outputs": [],
   "source": [
    "label_desc_0.head()"
   ]
  },
  {
   "cell_type": "code",
   "execution_count": null,
   "metadata": {},
   "outputs": [],
   "source": [
    "label_desc_0.shape"
   ]
  },
  {
   "cell_type": "code",
   "execution_count": null,
   "metadata": {},
   "outputs": [],
   "source": [
    "# label_desc_0.to_csv('input/label_hmn_mch_desc.csv', index=False)"
   ]
  },
  {
   "cell_type": "code",
   "execution_count": null,
   "metadata": {},
   "outputs": [],
   "source": [
    "label_train_01 = pd.concat([label_train_0, label_train_1]).reset_index(inplace=False, drop=True)"
   ]
  },
  {
   "cell_type": "code",
   "execution_count": null,
   "metadata": {
    "scrolled": false
   },
   "outputs": [],
   "source": [
    "label_train_01.shape"
   ]
  },
  {
   "cell_type": "code",
   "execution_count": null,
   "metadata": {
    "scrolled": false
   },
   "outputs": [],
   "source": [
    "label_train_01.head()"
   ]
  },
  {
   "cell_type": "code",
   "execution_count": null,
   "metadata": {},
   "outputs": [],
   "source": [
    "label_train_test = label_train_.loc[~flag_bbox, ['ImageID', 'label_code']]"
   ]
  },
  {
   "cell_type": "code",
   "execution_count": null,
   "metadata": {},
   "outputs": [],
   "source": [
    "label_train_test.head()"
   ]
  },
  {
   "cell_type": "code",
   "execution_count": null,
   "metadata": {},
   "outputs": [],
   "source": [
    "from sklearn.model_selection import StratifiedShuffleSplit as SSS"
   ]
  },
  {
   "cell_type": "code",
   "execution_count": null,
   "metadata": {},
   "outputs": [],
   "source": [
    "sss = SSS(n_splits=20, test_size=0.005, random_state=42)"
   ]
  },
  {
   "cell_type": "code",
   "execution_count": null,
   "metadata": {},
   "outputs": [],
   "source": [
    "label_train_test.shape"
   ]
  },
  {
   "cell_type": "code",
   "execution_count": null,
   "metadata": {},
   "outputs": [],
   "source": [
    "# label_train_cnt.index[label_train_cnt['ImageID']==1]\n",
    "onesample = ['/m/0266h', '/m/0cvt8m', '/m/05q3k']\n",
    "label_train_test.drop(inplace=True, index=label_train_test.index[ [i in onesample for i in label_train_test['label_code']] ])"
   ]
  },
  {
   "cell_type": "code",
   "execution_count": null,
   "metadata": {},
   "outputs": [],
   "source": [
    "label_train_test.reset_index(inplace=True, drop=True)"
   ]
  },
  {
   "cell_type": "code",
   "execution_count": null,
   "metadata": {},
   "outputs": [],
   "source": [
    "label_train_test.shape"
   ]
  },
  {
   "cell_type": "code",
   "execution_count": null,
   "metadata": {},
   "outputs": [],
   "source": [
    "indices = sss.split(np.zeros([label_train_test.shape[0],1]),label_train_test['label_code'])"
   ]
  },
  {
   "cell_type": "code",
   "execution_count": null,
   "metadata": {},
   "outputs": [],
   "source": [
    "train_index, test_index = next(indices)"
   ]
  },
  {
   "cell_type": "code",
   "execution_count": null,
   "metadata": {},
   "outputs": [],
   "source": [
    "train_index.shape"
   ]
  },
  {
   "cell_type": "code",
   "execution_count": null,
   "metadata": {},
   "outputs": [],
   "source": [
    "test_index.shape"
   ]
  },
  {
   "cell_type": "code",
   "execution_count": null,
   "metadata": {},
   "outputs": [],
   "source": [
    "label_train_test['label_code'].nunique()"
   ]
  },
  {
   "cell_type": "code",
   "execution_count": null,
   "metadata": {},
   "outputs": [],
   "source": [
    "label_train_test.loc[train_index,'label_code'].nunique()"
   ]
  },
  {
   "cell_type": "code",
   "execution_count": null,
   "metadata": {},
   "outputs": [],
   "source": [
    "label_train_test.loc[test_index,'label_code'].nunique()"
   ]
  },
  {
   "cell_type": "code",
   "execution_count": null,
   "metadata": {},
   "outputs": [],
   "source": [
    "label_train_00 = label_train_test.loc[train_index, :].groupby('ImageID').agg({'label_code': lambda x: [i for i in x]})"
   ]
  },
  {
   "cell_type": "code",
   "execution_count": null,
   "metadata": {},
   "outputs": [],
   "source": [
    "label_train_00.shape"
   ]
  },
  {
   "cell_type": "code",
   "execution_count": null,
   "metadata": {},
   "outputs": [],
   "source": [
    "label_test = label_train_test.loc[test_index, :].groupby('ImageID').agg({'label_code': lambda x: [i for i in x]})"
   ]
  },
  {
   "cell_type": "code",
   "execution_count": null,
   "metadata": {},
   "outputs": [],
   "source": [
    "label_test.shape"
   ]
  },
  {
   "cell_type": "code",
   "execution_count": null,
   "metadata": {},
   "outputs": [],
   "source": [
    "label_train_00['XMin'] = 0.\n",
    "label_train_00['YMin'] = 0.\n",
    "label_train_00['XMax'] = 1.\n",
    "label_train_00['YMax'] = 1.\n",
    "# label_train_00['description'] = label_train_00['label_code'].map(lambda x: [label2desc_train.loc[i, 'description'] for i in x])\n",
    "label_train_00['label_code'] = label_train_00['label_code'].map(lambda x: ','.join(x))\n",
    "label_train_00.reset_index(inplace=True, drop=False)"
   ]
  },
  {
   "cell_type": "code",
   "execution_count": null,
   "metadata": {},
   "outputs": [],
   "source": [
    "label_test['XMin'] = 0.\n",
    "label_test['YMin'] = 0.\n",
    "label_test['XMax'] = 1.\n",
    "label_test['YMax'] = 1.\n",
    "# label_test['description'] = label_test['label_code'].map(lambda x: [label2desc_train.loc[i, 'description'] for i in x])\n",
    "label_test['label_code'] = label_test['label_code'].map(lambda x: ','.join(x))\n",
    "label_test.reset_index(inplace=True, drop=False)"
   ]
  },
  {
   "cell_type": "code",
   "execution_count": null,
   "metadata": {},
   "outputs": [],
   "source": [
    "# label_train_01.to_csv('input/label_train_01.csv', index=False)"
   ]
  },
  {
   "cell_type": "code",
   "execution_count": null,
   "metadata": {},
   "outputs": [],
   "source": [
    "label_train_labelclass = pd.DataFrame({'label_code':label_train_['label_code'].unique()})"
   ]
  },
  {
   "cell_type": "code",
   "execution_count": null,
   "metadata": {},
   "outputs": [],
   "source": [
    "label_train_labelclass['description'] = label_train_labelclass['label_code'].map(lambda x: label2desc_train.loc[x, 'description'])"
   ]
  },
  {
   "cell_type": "code",
   "execution_count": null,
   "metadata": {
    "scrolled": true
   },
   "outputs": [],
   "source": [
    "label_train_labelclass.head()"
   ]
  },
  {
   "cell_type": "code",
   "execution_count": null,
   "metadata": {
    "scrolled": true
   },
   "outputs": [],
   "source": [
    "label_train_labelclass.shape"
   ]
  },
  {
   "cell_type": "code",
   "execution_count": null,
   "metadata": {},
   "outputs": [],
   "source": [
    "# label_train_labelclass.to_csv('input/label_desc.csv', index=False)"
   ]
  },
  {
   "cell_type": "code",
   "execution_count": null,
   "metadata": {},
   "outputs": [],
   "source": [
    "label_train_.shape"
   ]
  },
  {
   "cell_type": "code",
   "execution_count": null,
   "metadata": {},
   "outputs": [],
   "source": [
    "label_train_['ImageID'].nunique()"
   ]
  },
  {
   "cell_type": "code",
   "execution_count": null,
   "metadata": {},
   "outputs": [],
   "source": [
    "label_train_.duplicated().sum()"
   ]
  },
  {
   "cell_type": "code",
   "execution_count": null,
   "metadata": {
    "scrolled": true
   },
   "outputs": [],
   "source": [
    "label_train_.groupby(['ImageID', 'label_code']).ngroups"
   ]
  },
  {
   "cell_type": "code",
   "execution_count": null,
   "metadata": {},
   "outputs": [],
   "source": [
    "# label_train = pd.merge(left=label_hmn_train, right=label_mch_train, on=['ImageID', 'label_code'], how='outer', suffixes=['_hmn', '_mch']).reset_index(drop=True)"
   ]
  },
  {
   "cell_type": "code",
   "execution_count": null,
   "metadata": {
    "scrolled": false
   },
   "outputs": [],
   "source": [
    "18535506-5126334-11417764"
   ]
  },
  {
   "cell_type": "code",
   "execution_count": null,
   "metadata": {},
   "outputs": [],
   "source": [
    "label_train_['label_code'].nunique()"
   ]
  },
  {
   "cell_type": "code",
   "execution_count": null,
   "metadata": {},
   "outputs": [],
   "source": [
    "label_train_cnt = label_train_[['ImageID','label_code']].groupby('label_code').count()"
   ]
  },
  {
   "cell_type": "code",
   "execution_count": null,
   "metadata": {},
   "outputs": [],
   "source": [
    "label_train_cnt.sort_values(by='ImageID', ascending=False, inplace=True)"
   ]
  },
  {
   "cell_type": "code",
   "execution_count": null,
   "metadata": {},
   "outputs": [],
   "source": [
    "label_train_cnt.head()"
   ]
  },
  {
   "cell_type": "code",
   "execution_count": null,
   "metadata": {
    "scrolled": true
   },
   "outputs": [],
   "source": [
    "label_train_cnt.iloc[1000:, 0].plot()"
   ]
  },
  {
   "cell_type": "code",
   "execution_count": null,
   "metadata": {},
   "outputs": [],
   "source": [
    "label_train_cnt['ratio_max'] = label_train_cnt['ImageID'].max() / label_train_cnt['ImageID']"
   ]
  },
  {
   "cell_type": "code",
   "execution_count": null,
   "metadata": {},
   "outputs": [],
   "source": [
    "label_train_cnt['ratio_max'].plot()"
   ]
  },
  {
   "cell_type": "code",
   "execution_count": null,
   "metadata": {
    "scrolled": true
   },
   "outputs": [],
   "source": [
    "label_train_cnt"
   ]
  },
  {
   "cell_type": "code",
   "execution_count": null,
   "metadata": {},
   "outputs": [],
   "source": [
    "label_train_cnt.index[label_train_cnt['ImageID']==1]"
   ]
  },
  {
   "cell_type": "code",
   "execution_count": null,
   "metadata": {},
   "outputs": [],
   "source": [
    "# label_train.shape"
   ]
  },
  {
   "cell_type": "code",
   "execution_count": null,
   "metadata": {},
   "outputs": [],
   "source": [
    "# label_train.loc[label_train['Confidence_mch'].isnull(), 'label_code'].nunique()\n",
    "# label_train.loc[:, 'label_code'].nunique()"
   ]
  },
  {
   "cell_type": "code",
   "execution_count": null,
   "metadata": {},
   "outputs": [],
   "source": [
    "# label_train.head()"
   ]
  },
  {
   "cell_type": "code",
   "execution_count": null,
   "metadata": {},
   "outputs": [],
   "source": [
    "# label_train['Confidence_mch'].std()"
   ]
  },
  {
   "cell_type": "code",
   "execution_count": null,
   "metadata": {},
   "outputs": [],
   "source": [
    "# t = pd.merge(left=label_hmn_train[~label_hmn_train['label_code'].duplicated()], \\\n",
    "#              right=label_mch_train[~label_mch_train['label_code'].duplicated()], \\\n",
    "#              on='label_code', how='inner')\n",
    "# t.shape"
   ]
  },
  {
   "cell_type": "code",
   "execution_count": null,
   "metadata": {},
   "outputs": [],
   "source": [
    "label_tun = pd.read_csv('../input/tuning_labels.csv', names=['id', 'labels'], index_col='id')"
   ]
  },
  {
   "cell_type": "code",
   "execution_count": null,
   "metadata": {
    "scrolled": false
   },
   "outputs": [],
   "source": [
    "label_tun.head()"
   ]
  },
  {
   "cell_type": "code",
   "execution_count": null,
   "metadata": {
    "scrolled": true
   },
   "outputs": [],
   "source": [
    "pop_labels_tun = label_tun['labels'].str.split().apply(pd.Series).stack().value_counts().head(10).index.tolist()"
   ]
  },
  {
   "cell_type": "code",
   "execution_count": null,
   "metadata": {},
   "outputs": [],
   "source": [
    "pop_labels_trn = label_train_0_cnt.head(10)['label_code'].tolist()"
   ]
  },
  {
   "cell_type": "code",
   "execution_count": null,
   "metadata": {},
   "outputs": [],
   "source": [
    "pop_labels_trn"
   ]
  },
  {
   "cell_type": "code",
   "execution_count": null,
   "metadata": {
    "scrolled": true
   },
   "outputs": [],
   "source": [
    "[label2desc_train.loc[ii, 'description'] for ii in pop_labels_tun]"
   ]
  },
  {
   "cell_type": "code",
   "execution_count": null,
   "metadata": {},
   "outputs": [],
   "source": [
    "[label2desc_train.loc[ii, 'description'] for ii in pop_labels_trn]"
   ]
  },
  {
   "cell_type": "code",
   "execution_count": null,
   "metadata": {},
   "outputs": [],
   "source": [
    "label_tun.shape"
   ]
  },
  {
   "cell_type": "code",
   "execution_count": null,
   "metadata": {},
   "outputs": [],
   "source": [
    "from matplotlib import pyplot as plt\n",
    "import cv2"
   ]
  },
  {
   "cell_type": "code",
   "execution_count": null,
   "metadata": {},
   "outputs": [],
   "source": [
    "label_hmn_6 = ['000002b66c9c498e', '000002b97e5471a0', '000002c707c9895e', '0000048549557964', '000004f4400f6ec5', '0000071d71a0a6f6']"
   ]
  },
  {
   "cell_type": "code",
   "execution_count": null,
   "metadata": {},
   "outputs": [],
   "source": [
    "fig, ax = plt.subplots()\n",
    "fig.set_size_inches((15, 15))\n",
    "ax.set_axis_off()\n",
    "n = 0\n",
    "for row in label_hmn_6:\n",
    "    a = fig.add_subplot(2, 3, n+1)\n",
    "    img = plt.imread('../input/train_images/train_all/'+row+'.jpg')\n",
    "    box = bbox_train[bbox_train['ImageID'] == row]\n",
    "    h, w = img.shape[:2]\n",
    "    for idx, row in box.iterrows():\n",
    "        img = cv2.rectangle(img, (int(row.XMin*w), int(row.YMin*h)), (int(row.XMax*w), int(row.YMax*h)), (0,255,0), 4)\n",
    "#     label = class_desc.loc[class_desc['image_id'] == row[0], 'Description'].str.cat(sep=',')\n",
    "#     plt.title(label, fontsize=10)\n",
    "    plt.axis('off')\n",
    "    plt.imshow(img)\n",
    "    n += 1"
   ]
  },
  {
   "cell_type": "code",
   "execution_count": null,
   "metadata": {
    "scrolled": true
   },
   "outputs": [],
   "source": [
    "row = 'd13f02d0775b1c6d'\n",
    "print(label_train_.loc[label_train_.ImageID == row, ['description','Confidence', 'source']])\n",
    "img = plt.imread('../input/train_images/train_all/'+row+'.jpg')\n",
    "box = bbox_train[bbox_train['ImageID'] == row]\n",
    "h, w = img.shape[:2]\n",
    "for idx, row in box.iterrows():\n",
    "#     if row.description == 'Human ear':\n",
    "        img = cv2.rectangle(img, (int(row.XMin*w), int(row.YMin*h)), (int(row.XMax*w), int(row.YMax*h)), (0,255,0), 4)\n",
    "        print(row['description'])\n",
    "plt.axis('off')\n",
    "plt.imshow(img)"
   ]
  },
  {
   "cell_type": "code",
   "execution_count": null,
   "metadata": {},
   "outputs": [],
   "source": [
    "h, w"
   ]
  },
  {
   "cell_type": "code",
   "execution_count": null,
   "metadata": {},
   "outputs": [],
   "source": []
  }
 ],
 "metadata": {
  "kernelspec": {
   "display_name": "Python 3",
   "language": "python",
   "name": "python3"
  },
  "language_info": {
   "codemirror_mode": {
    "name": "ipython",
    "version": 3
   },
   "file_extension": ".py",
   "mimetype": "text/x-python",
   "name": "python",
   "nbconvert_exporter": "python",
   "pygments_lexer": "ipython3",
   "version": "3.6.7"
  }
 },
 "nbformat": 4,
 "nbformat_minor": 2
}
